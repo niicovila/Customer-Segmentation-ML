{
  "cells": [
    {
      "cell_type": "markdown",
      "metadata": {
        "id": "EzfnlG_gKLhF"
      },
      "source": [
        "# <center> Project 02: Application of classification in Marketing and Sales </center>"
      ]
    },
    {
      "cell_type": "markdown",
      "metadata": {
        "id": "jdPg2j8dKLhG"
      },
      "source": [
        "# Seminar goals:\n",
        "In this project, we will develop and apply different supervised classification tecnhiques. These methodologies are broadly used in business to multiple use cases as:\n",
        "- identify **new customers** in the market\n",
        "- identify customers in our internal Data Warehouse with **more likely** to buy a new product\n",
        "- identify unsatisfied customers and thus, likely to be **churners**\n",
        "- classify text into categories for spam identification or to process messages or emails from our customers\n",
        "\n",
        "During this project we will follow the end-to-end Machine Learning process: from data gathering and cleaning, exploratory data analysis, feature engineering and finally, training and prediction. In particular, the main sections of this project are:\n",
        "1. Data understanding and preparation: exploration of the dataset and feature engineering (missing values, outlier identification, categorical variables management) \n",
        "2. Model Training: training the baseline SVM and Decision Trees. Analysis of metrics (recall, precision, confusion metrics) and improvement the classification through several techniques as undersampling to balance or ensemble of models\n",
        "3. Creating a Business opportunity with Machine Learning: selection of the best model and identification of the most important features\n",
        "\n",
        "\n",
        "\n",
        "We will apply all these techniques to identify new customers to capture and improve sales in a **marketing use case**."
      ]
    },
    {
      "cell_type": "markdown",
      "metadata": {
        "id": "UYAFrceqKLhH"
      },
      "source": [
        "### Due date: up to June 17th, 23:55h. \n",
        "### Submission procedure: via Moodle."
      ]
    },
    {
      "cell_type": "markdown",
      "metadata": {
        "id": "-A4_3DZEKLhI"
      },
      "source": [
        "*******"
      ]
    },
    {
      "cell_type": "markdown",
      "metadata": {
        "id": "FZY4NReQKLhI"
      },
      "source": [
        "# 0. Context:  Using Machine Learning to increase our customers base"
      ]
    },
    {
      "cell_type": "markdown",
      "metadata": {
        "id": "diyA2X3aKLhJ"
      },
      "source": [
        "We work as a head of data science and AI in a new Internet of Things (IoT) company. Our company designs, builds and implements wireless IoT products.\n",
        "\n",
        "Our marketing colleagues are planning to launch a new commercial campaign for capturing new customers. We have to decide which companies are the target to be visited by our sales managers. As the cost to send a sales manager to visit a potential customer is quite high, we have to select from the total market base, those companies that are more likely to buy any of our products and become a new customer. \n",
        "\n",
        "To support this new campaign, we are **using several of the most important classification techniques**. We will manage key evaluation aspects of a classification as **recall, precision, false positive, etc...** to decide which are the best potential customers. \n"
      ]
    },
    {
      "cell_type": "markdown",
      "metadata": {
        "id": "1hxQ0QtwKLhK"
      },
      "source": [
        "## 0.1 Dataset"
      ]
    },
    {
      "cell_type": "markdown",
      "metadata": {
        "id": "uRr4nn5-KLhK"
      },
      "source": [
        "In this practice we are using a new dataset named `market_dt.csv`. This file contains information of **IoT market**, i.e. companies that could be interested to buy IoT products or they have already. In particular, the detailed information for each customer is:\n",
        "- *City*: Name of the city where the company is located\n",
        "- *Customer_Flag*: It is a flag that is 1 for current customers and 0 for non-customers\n",
        "- *Revenue*: The annual incomes of the company\n",
        "- *Sector*: It's an integer that identifies the sector of the company's activity\n",
        "- *CNT_EMPLOYEE*: Number of employees of the company\n",
        "- *CNT_CB_DENSITY*: Number of companies close\n",
        "- *CNT_CB_MOB_DENSITY*: Number of companies with mobile services\n",
        "- *CNT_CB_FN_DENSITY*: Number of companies with fixed services\n",
        "- *Legal_Form_Code*: It's an integer that identifies the legal type of the company: big, small or medium company\n",
        "- *Mobile potential*: It's an estimation of the total annual expense that a company can do in telco services, including IoT"
      ]
    },
    {
      "cell_type": "markdown",
      "metadata": {
        "id": "6U4Sxn_kKLhL"
      },
      "source": [
        "## 0.2. Imports"
      ]
    },
    {
      "cell_type": "code",
      "execution_count": null,
      "metadata": {
        "id": "t4bx2UI5KLhM"
      },
      "outputs": [],
      "source": [
        "import pandas as pd\n",
        "import numpy as np\n",
        "import matplotlib.pyplot as plt\n",
        "from matplotlib import pyplot\n",
        "import matplotlib.cm as cm\n",
        "import seaborn as sns\n",
        "from scipy.stats import iqr\n",
        "from scipy.stats import chi2_contingency\n",
        "from sklearn.preprocessing import StandardScaler\n",
        "from sklearn.preprocessing import Normalizer\n",
        "from sklearn.preprocessing import MinMaxScaler\n",
        "from sklearn.preprocessing import LabelEncoder\n",
        "from sklearn.model_selection import train_test_split\n",
        "from sklearn.linear_model import SGDClassifier\n",
        "from sklearn.svm import SVC\n",
        "from sklearn.model_selection import train_test_split\n",
        "from sklearn.metrics import accuracy_score, auc, roc_curve, classification_report, confusion_matrix, precision_score, recall_score, precision_recall_curve\n",
        "from sklearn.tree import DecisionTreeClassifier\n",
        "from sklearn.ensemble import RandomForestClassifier, GradientBoostingClassifier, VotingClassifier, AdaBoostClassifier \n",
        "from sklearn.model_selection import KFold\n",
        "from sklearn.model_selection import cross_val_score\n",
        "from sklearn.model_selection import StratifiedKFold"
      ]
    },
    {
      "cell_type": "markdown",
      "metadata": {
        "id": "o7OfXFAoKLhP"
      },
      "source": [
        "# 1. Data understanding and preparation"
      ]
    },
    {
      "cell_type": "markdown",
      "metadata": {
        "id": "T0GEXTMZKLhQ"
      },
      "source": [
        "The first stage in any Machine Learning project is to have a clear understanding of the dataset from a statistical point of view but also from the perspective of the value of their variables to solve the use case or problem. To achieve this goal we need to \"clean\" and \"transform\" the data. All this process is known as **Data Wrangling**. In particular, the whole data wrangling process implies:\n",
        "- Define and apply an strategy for nulls and coding for categorical variables\n",
        "- Analyze the variables distribution and correlation between them\n",
        "- Remove outliers\n",
        "- etc....\n"
      ]
    },
    {
      "cell_type": "markdown",
      "metadata": {
        "id": "tzaVBJ98KLhQ"
      },
      "source": [
        "Let's open the csv with separator \";\" and assign to a dataframe variable (use read_csv from Pandas library). Let's see the top 5 elements."
      ]
    },
    {
      "cell_type": "code",
      "execution_count": null,
      "metadata": {
        "id": "t7w8v94aKLhR",
        "colab": {
          "base_uri": "https://localhost:8080/",
          "height": 206
        },
        "outputId": "0cb40935-38b6-4316-ad65-0081653baa6e"
      },
      "outputs": [
        {
          "output_type": "execute_result",
          "data": {
            "text/plain": [
              "        City  Customer_Flag     Revenue  Sector  Legal_Form_Code  \\\n",
              "0     Bremen              0  21339309.0    26.0             14.0   \n",
              "1  Steinfurt              0         NaN    74.0              4.0   \n",
              "2  Magdeburg              0         NaN    83.0             28.0   \n",
              "3    Leipzig              0         NaN    61.0             28.0   \n",
              "4       Tamm              0         NaN    74.0              4.0   \n",
              "\n",
              "   CNT_EMPLOYEE  CNT_CB_DENSITY  CNT_CB_MOB_DENSITY  CNT_CB_FN_DENSITY  \\\n",
              "0            28           161.0               154.0               10.0   \n",
              "1            52            41.0                41.0                1.0   \n",
              "2            29           188.0               187.0                6.0   \n",
              "3            13           597.0               594.0               21.0   \n",
              "4            40           336.0               334.0               10.0   \n",
              "\n",
              "   Mobile_potential  \n",
              "0       2505.609457  \n",
              "1       2714.197904  \n",
              "2       2245.828787  \n",
              "3       2163.784785  \n",
              "4       2338.611264  "
            ],
            "text/html": [
              "\n",
              "  <div id=\"df-e573ad38-c4e3-457d-b13e-066a36ecebfb\">\n",
              "    <div class=\"colab-df-container\">\n",
              "      <div>\n",
              "<style scoped>\n",
              "    .dataframe tbody tr th:only-of-type {\n",
              "        vertical-align: middle;\n",
              "    }\n",
              "\n",
              "    .dataframe tbody tr th {\n",
              "        vertical-align: top;\n",
              "    }\n",
              "\n",
              "    .dataframe thead th {\n",
              "        text-align: right;\n",
              "    }\n",
              "</style>\n",
              "<table border=\"1\" class=\"dataframe\">\n",
              "  <thead>\n",
              "    <tr style=\"text-align: right;\">\n",
              "      <th></th>\n",
              "      <th>City</th>\n",
              "      <th>Customer_Flag</th>\n",
              "      <th>Revenue</th>\n",
              "      <th>Sector</th>\n",
              "      <th>Legal_Form_Code</th>\n",
              "      <th>CNT_EMPLOYEE</th>\n",
              "      <th>CNT_CB_DENSITY</th>\n",
              "      <th>CNT_CB_MOB_DENSITY</th>\n",
              "      <th>CNT_CB_FN_DENSITY</th>\n",
              "      <th>Mobile_potential</th>\n",
              "    </tr>\n",
              "  </thead>\n",
              "  <tbody>\n",
              "    <tr>\n",
              "      <th>0</th>\n",
              "      <td>Bremen</td>\n",
              "      <td>0</td>\n",
              "      <td>21339309.0</td>\n",
              "      <td>26.0</td>\n",
              "      <td>14.0</td>\n",
              "      <td>28</td>\n",
              "      <td>161.0</td>\n",
              "      <td>154.0</td>\n",
              "      <td>10.0</td>\n",
              "      <td>2505.609457</td>\n",
              "    </tr>\n",
              "    <tr>\n",
              "      <th>1</th>\n",
              "      <td>Steinfurt</td>\n",
              "      <td>0</td>\n",
              "      <td>NaN</td>\n",
              "      <td>74.0</td>\n",
              "      <td>4.0</td>\n",
              "      <td>52</td>\n",
              "      <td>41.0</td>\n",
              "      <td>41.0</td>\n",
              "      <td>1.0</td>\n",
              "      <td>2714.197904</td>\n",
              "    </tr>\n",
              "    <tr>\n",
              "      <th>2</th>\n",
              "      <td>Magdeburg</td>\n",
              "      <td>0</td>\n",
              "      <td>NaN</td>\n",
              "      <td>83.0</td>\n",
              "      <td>28.0</td>\n",
              "      <td>29</td>\n",
              "      <td>188.0</td>\n",
              "      <td>187.0</td>\n",
              "      <td>6.0</td>\n",
              "      <td>2245.828787</td>\n",
              "    </tr>\n",
              "    <tr>\n",
              "      <th>3</th>\n",
              "      <td>Leipzig</td>\n",
              "      <td>0</td>\n",
              "      <td>NaN</td>\n",
              "      <td>61.0</td>\n",
              "      <td>28.0</td>\n",
              "      <td>13</td>\n",
              "      <td>597.0</td>\n",
              "      <td>594.0</td>\n",
              "      <td>21.0</td>\n",
              "      <td>2163.784785</td>\n",
              "    </tr>\n",
              "    <tr>\n",
              "      <th>4</th>\n",
              "      <td>Tamm</td>\n",
              "      <td>0</td>\n",
              "      <td>NaN</td>\n",
              "      <td>74.0</td>\n",
              "      <td>4.0</td>\n",
              "      <td>40</td>\n",
              "      <td>336.0</td>\n",
              "      <td>334.0</td>\n",
              "      <td>10.0</td>\n",
              "      <td>2338.611264</td>\n",
              "    </tr>\n",
              "  </tbody>\n",
              "</table>\n",
              "</div>\n",
              "      <button class=\"colab-df-convert\" onclick=\"convertToInteractive('df-e573ad38-c4e3-457d-b13e-066a36ecebfb')\"\n",
              "              title=\"Convert this dataframe to an interactive table.\"\n",
              "              style=\"display:none;\">\n",
              "        \n",
              "  <svg xmlns=\"http://www.w3.org/2000/svg\" height=\"24px\"viewBox=\"0 0 24 24\"\n",
              "       width=\"24px\">\n",
              "    <path d=\"M0 0h24v24H0V0z\" fill=\"none\"/>\n",
              "    <path d=\"M18.56 5.44l.94 2.06.94-2.06 2.06-.94-2.06-.94-.94-2.06-.94 2.06-2.06.94zm-11 1L8.5 8.5l.94-2.06 2.06-.94-2.06-.94L8.5 2.5l-.94 2.06-2.06.94zm10 10l.94 2.06.94-2.06 2.06-.94-2.06-.94-.94-2.06-.94 2.06-2.06.94z\"/><path d=\"M17.41 7.96l-1.37-1.37c-.4-.4-.92-.59-1.43-.59-.52 0-1.04.2-1.43.59L10.3 9.45l-7.72 7.72c-.78.78-.78 2.05 0 2.83L4 21.41c.39.39.9.59 1.41.59.51 0 1.02-.2 1.41-.59l7.78-7.78 2.81-2.81c.8-.78.8-2.07 0-2.86zM5.41 20L4 18.59l7.72-7.72 1.47 1.35L5.41 20z\"/>\n",
              "  </svg>\n",
              "      </button>\n",
              "      \n",
              "  <style>\n",
              "    .colab-df-container {\n",
              "      display:flex;\n",
              "      flex-wrap:wrap;\n",
              "      gap: 12px;\n",
              "    }\n",
              "\n",
              "    .colab-df-convert {\n",
              "      background-color: #E8F0FE;\n",
              "      border: none;\n",
              "      border-radius: 50%;\n",
              "      cursor: pointer;\n",
              "      display: none;\n",
              "      fill: #1967D2;\n",
              "      height: 32px;\n",
              "      padding: 0 0 0 0;\n",
              "      width: 32px;\n",
              "    }\n",
              "\n",
              "    .colab-df-convert:hover {\n",
              "      background-color: #E2EBFA;\n",
              "      box-shadow: 0px 1px 2px rgba(60, 64, 67, 0.3), 0px 1px 3px 1px rgba(60, 64, 67, 0.15);\n",
              "      fill: #174EA6;\n",
              "    }\n",
              "\n",
              "    [theme=dark] .colab-df-convert {\n",
              "      background-color: #3B4455;\n",
              "      fill: #D2E3FC;\n",
              "    }\n",
              "\n",
              "    [theme=dark] .colab-df-convert:hover {\n",
              "      background-color: #434B5C;\n",
              "      box-shadow: 0px 1px 3px 1px rgba(0, 0, 0, 0.15);\n",
              "      filter: drop-shadow(0px 1px 2px rgba(0, 0, 0, 0.3));\n",
              "      fill: #FFFFFF;\n",
              "    }\n",
              "  </style>\n",
              "\n",
              "      <script>\n",
              "        const buttonEl =\n",
              "          document.querySelector('#df-e573ad38-c4e3-457d-b13e-066a36ecebfb button.colab-df-convert');\n",
              "        buttonEl.style.display =\n",
              "          google.colab.kernel.accessAllowed ? 'block' : 'none';\n",
              "\n",
              "        async function convertToInteractive(key) {\n",
              "          const element = document.querySelector('#df-e573ad38-c4e3-457d-b13e-066a36ecebfb');\n",
              "          const dataTable =\n",
              "            await google.colab.kernel.invokeFunction('convertToInteractive',\n",
              "                                                     [key], {});\n",
              "          if (!dataTable) return;\n",
              "\n",
              "          const docLinkHtml = 'Like what you see? Visit the ' +\n",
              "            '<a target=\"_blank\" href=https://colab.research.google.com/notebooks/data_table.ipynb>data table notebook</a>'\n",
              "            + ' to learn more about interactive tables.';\n",
              "          element.innerHTML = '';\n",
              "          dataTable['output_type'] = 'display_data';\n",
              "          await google.colab.output.renderOutput(dataTable, element);\n",
              "          const docLink = document.createElement('div');\n",
              "          docLink.innerHTML = docLinkHtml;\n",
              "          element.appendChild(docLink);\n",
              "        }\n",
              "      </script>\n",
              "    </div>\n",
              "  </div>\n",
              "  "
            ]
          },
          "metadata": {},
          "execution_count": 135
        }
      ],
      "source": [
        "market_dt = pd.read_csv('market_dt.csv', usecols={'City', 'Customer_Flag', 'Revenue', 'Sector', 'CNT_EMPLOYEE',\n",
        "                                                 'CNT_CB_DENSITY', 'CNT_CB_MOB_DENSITY', 'CNT_CB_FN_DENSITY',\n",
        "                                                 'Legal_Form_Code','Mobile_potential'}, sep=\";\")\n",
        "market_dt.head()"
      ]
    },
    {
      "cell_type": "markdown",
      "metadata": {
        "id": "osFK9XOAKLhV"
      },
      "source": [
        "[**EX1**] [**REPORT**] Let's identify the type of the variables (integer, float, chart...) and the size of the dataset and the file. Which are the variable with more nulls? And with no nulls? Why 'City' variables is considered as object type?\n",
        "\n",
        "Tip: [.info()](https://www.geeksforgeeks.org/python-pandas-dataframe-info/) is a function that reports the main characteristics of a dataframe."
      ]
    },
    {
      "cell_type": "code",
      "execution_count": null,
      "metadata": {
        "id": "SJQoGgAKj5S9",
        "colab": {
          "base_uri": "https://localhost:8080/"
        },
        "outputId": "3616c875-feaf-472c-d086-24fcf262a639"
      },
      "outputs": [
        {
          "output_type": "stream",
          "name": "stdout",
          "text": [
            "<class 'pandas.core.frame.DataFrame'>\n",
            "RangeIndex: 13335 entries, 0 to 13334\n",
            "Data columns (total 10 columns):\n",
            " #   Column              Non-Null Count  Dtype  \n",
            "---  ------              --------------  -----  \n",
            " 0   City                13335 non-null  object \n",
            " 1   Customer_Flag       13335 non-null  int64  \n",
            " 2   Revenue             8589 non-null   float64\n",
            " 3   Sector              13235 non-null  float64\n",
            " 4   Legal_Form_Code     13229 non-null  float64\n",
            " 5   CNT_EMPLOYEE        13335 non-null  int64  \n",
            " 6   CNT_CB_DENSITY      10265 non-null  float64\n",
            " 7   CNT_CB_MOB_DENSITY  10265 non-null  float64\n",
            " 8   CNT_CB_FN_DENSITY   10265 non-null  float64\n",
            " 9   Mobile_potential    13335 non-null  float64\n",
            "dtypes: float64(7), int64(2), object(1)\n",
            "memory usage: 1.0+ MB\n"
          ]
        }
      ],
      "source": [
        "market_dt.info()"
      ]
    },
    {
      "cell_type": "markdown",
      "metadata": {
        "id": "rnjxSOlfKLhZ"
      },
      "source": [
        "Once we have the first contact with the dataset, next step is to decide the strategy to apply to **nulls** values. There are several options as removing the rows with any **null**, assigning a constant value (e.g. median or mean value), etc.... In our case, we are removing the rows with **null** in any of the values."
      ]
    },
    {
      "cell_type": "markdown",
      "metadata": {
        "id": "j6WN5zKGKLhZ"
      },
      "source": [
        "[**EX2**] [**CODE**] Eliminate those rows which has nulls in any variable. Let's check that there is no nulls in any variable. Which is the size of the resulting dataset? "
      ]
    },
    {
      "cell_type": "code",
      "execution_count": null,
      "metadata": {
        "id": "NA9M8pk7kYfj"
      },
      "outputs": [],
      "source": [
        "market_dt = market_dt.dropna() "
      ]
    },
    {
      "cell_type": "code",
      "execution_count": null,
      "metadata": {
        "id": "H2dXqQbfKLhf",
        "colab": {
          "base_uri": "https://localhost:8080/"
        },
        "outputId": "c29c16cb-1d8a-4c07-8346-d4bdf5c95fb9"
      },
      "outputs": [
        {
          "output_type": "stream",
          "name": "stdout",
          "text": [
            "<class 'pandas.core.frame.DataFrame'>\n",
            "Int64Index: 6987 entries, 0 to 13321\n",
            "Data columns (total 10 columns):\n",
            " #   Column              Non-Null Count  Dtype  \n",
            "---  ------              --------------  -----  \n",
            " 0   City                6987 non-null   object \n",
            " 1   Customer_Flag       6987 non-null   int64  \n",
            " 2   Revenue             6987 non-null   float64\n",
            " 3   Sector              6987 non-null   float64\n",
            " 4   Legal_Form_Code     6987 non-null   float64\n",
            " 5   CNT_EMPLOYEE        6987 non-null   int64  \n",
            " 6   CNT_CB_DENSITY      6987 non-null   float64\n",
            " 7   CNT_CB_MOB_DENSITY  6987 non-null   float64\n",
            " 8   CNT_CB_FN_DENSITY   6987 non-null   float64\n",
            " 9   Mobile_potential    6987 non-null   float64\n",
            "dtypes: float64(7), int64(2), object(1)\n",
            "memory usage: 600.4+ KB\n"
          ]
        }
      ],
      "source": [
        "market_dt.info()"
      ]
    },
    {
      "cell_type": "markdown",
      "metadata": {
        "id": "uR4UCXz6KLhj"
      },
      "source": [
        "In Machine Learning, it is key to analyze the variables from a statistical point of view: knowing the distribution of each variable, their mean and median are key to identify any transformation to apply before training the model. \n",
        "Furthermore, due to the fact that we are training a classifier (in our case, to classify between ***customers*** and ***non customers***), this analysis should be done for both classes separetly."
      ]
    },
    {
      "cell_type": "markdown",
      "metadata": {
        "id": "L2r-IQ7OKLhj"
      },
      "source": [
        "[**EX3**] [**REPORT**] Create a `customer_dt`and `noncustomer_dt`datasets based on the `Customer_Flag`variable (`Customer_Flag`=1 for **customers** and 0 for **noncustomers**). Build a boxplot for the `Revenue`, `CNT_EMPLOYEE`, `Mobile_potential` and `CNT_CB_Density` numeric variables for both datasets. Which are the main differences between `customer_dt`and `noncustomer_dt` datasets comparing these variables. Which is the dataset with `CNT_EMPLOYEE` higher? Which datasets have more outliers in `Revenues`? Which is the Q1, median (=Q2) and Q3 for `Revenues`and `Mobile_potential`?\n",
        "\n",
        "\n",
        "Tip: you may have to use the [boxplot](https://matplotlib.org/3.1.1/api/_as_gen/matplotlib.pyplot.boxplot.html) function."
      ]
    },
    {
      "cell_type": "code",
      "execution_count": null,
      "metadata": {
        "id": "QJfoXLM8ogyq",
        "colab": {
          "base_uri": "https://localhost:8080/"
        },
        "outputId": "8093c738-a83b-48b8-bcca-3a57120cffed"
      },
      "outputs": [
        {
          "output_type": "stream",
          "name": "stdout",
          "text": [
            "<class 'pandas.core.frame.DataFrame'>\n",
            "Int64Index: 1111 entries, 11548 to 13321\n",
            "Data columns (total 10 columns):\n",
            " #   Column              Non-Null Count  Dtype  \n",
            "---  ------              --------------  -----  \n",
            " 0   City                1111 non-null   object \n",
            " 1   Customer_Flag       1111 non-null   int64  \n",
            " 2   Revenue             1111 non-null   float64\n",
            " 3   Sector              1111 non-null   float64\n",
            " 4   Legal_Form_Code     1111 non-null   float64\n",
            " 5   CNT_EMPLOYEE        1111 non-null   int64  \n",
            " 6   CNT_CB_DENSITY      1111 non-null   float64\n",
            " 7   CNT_CB_MOB_DENSITY  1111 non-null   float64\n",
            " 8   CNT_CB_FN_DENSITY   1111 non-null   float64\n",
            " 9   Mobile_potential    1111 non-null   float64\n",
            "dtypes: float64(7), int64(2), object(1)\n",
            "memory usage: 95.5+ KB\n"
          ]
        }
      ],
      "source": [
        "customer_dt = market_dt[market_dt['Customer_Flag'] == 1]\n",
        "customer_dt.info()"
      ]
    },
    {
      "cell_type": "code",
      "execution_count": null,
      "metadata": {
        "id": "QOxc9ky9lanS",
        "colab": {
          "base_uri": "https://localhost:8080/"
        },
        "outputId": "37c446fd-c2eb-4254-91e6-30df3be26d8a"
      },
      "outputs": [
        {
          "output_type": "stream",
          "name": "stdout",
          "text": [
            "<class 'pandas.core.frame.DataFrame'>\n",
            "Int64Index: 5876 entries, 0 to 11546\n",
            "Data columns (total 10 columns):\n",
            " #   Column              Non-Null Count  Dtype  \n",
            "---  ------              --------------  -----  \n",
            " 0   City                5876 non-null   object \n",
            " 1   Customer_Flag       5876 non-null   int64  \n",
            " 2   Revenue             5876 non-null   float64\n",
            " 3   Sector              5876 non-null   float64\n",
            " 4   Legal_Form_Code     5876 non-null   float64\n",
            " 5   CNT_EMPLOYEE        5876 non-null   int64  \n",
            " 6   CNT_CB_DENSITY      5876 non-null   float64\n",
            " 7   CNT_CB_MOB_DENSITY  5876 non-null   float64\n",
            " 8   CNT_CB_FN_DENSITY   5876 non-null   float64\n",
            " 9   Mobile_potential    5876 non-null   float64\n",
            "dtypes: float64(7), int64(2), object(1)\n",
            "memory usage: 505.0+ KB\n"
          ]
        }
      ],
      "source": [
        "noncustomer_dt = market_dt[market_dt['Customer_Flag'] == 0]\n",
        "noncustomer_dt.info()"
      ]
    },
    {
      "cell_type": "code",
      "execution_count": null,
      "metadata": {
        "id": "iKaXPJVtqsVg",
        "colab": {
          "base_uri": "https://localhost:8080/",
          "height": 206
        },
        "outputId": "e7cfb9e2-4e4d-4dba-8b8e-b4f9d4ddad02"
      },
      "outputs": [
        {
          "output_type": "execute_result",
          "data": {
            "text/plain": [
              "            City  Customer_Flag     Revenue  Sector  Legal_Form_Code  \\\n",
              "11548       Haar              1   4000000.0    42.0             14.0   \n",
              "11551    Greding              1  11780000.0    74.0              4.0   \n",
              "11553      Dörth              1   2050000.0    43.0             14.0   \n",
              "11554  Frankfurt              1    853500.0    63.0             14.0   \n",
              "11565  Benningen              1  10680000.0    74.0              4.0   \n",
              "\n",
              "       CNT_EMPLOYEE  CNT_CB_DENSITY  CNT_CB_MOB_DENSITY  CNT_CB_FN_DENSITY  \\\n",
              "11548            17           891.0               867.0               62.0   \n",
              "11551            53             7.0                 7.0                0.0   \n",
              "11553            16            30.0                30.0                1.0   \n",
              "11554            14           870.0               842.0               77.0   \n",
              "11565            17           319.0               317.0               10.0   \n",
              "\n",
              "       Mobile_potential  \n",
              "11548       1846.104451  \n",
              "11551       2083.941040  \n",
              "11553       2209.827333  \n",
              "11554       2401.464693  \n",
              "11565       2579.765989  "
            ],
            "text/html": [
              "\n",
              "  <div id=\"df-ec55503b-dad7-40b8-b29e-2a130013342d\">\n",
              "    <div class=\"colab-df-container\">\n",
              "      <div>\n",
              "<style scoped>\n",
              "    .dataframe tbody tr th:only-of-type {\n",
              "        vertical-align: middle;\n",
              "    }\n",
              "\n",
              "    .dataframe tbody tr th {\n",
              "        vertical-align: top;\n",
              "    }\n",
              "\n",
              "    .dataframe thead th {\n",
              "        text-align: right;\n",
              "    }\n",
              "</style>\n",
              "<table border=\"1\" class=\"dataframe\">\n",
              "  <thead>\n",
              "    <tr style=\"text-align: right;\">\n",
              "      <th></th>\n",
              "      <th>City</th>\n",
              "      <th>Customer_Flag</th>\n",
              "      <th>Revenue</th>\n",
              "      <th>Sector</th>\n",
              "      <th>Legal_Form_Code</th>\n",
              "      <th>CNT_EMPLOYEE</th>\n",
              "      <th>CNT_CB_DENSITY</th>\n",
              "      <th>CNT_CB_MOB_DENSITY</th>\n",
              "      <th>CNT_CB_FN_DENSITY</th>\n",
              "      <th>Mobile_potential</th>\n",
              "    </tr>\n",
              "  </thead>\n",
              "  <tbody>\n",
              "    <tr>\n",
              "      <th>11548</th>\n",
              "      <td>Haar</td>\n",
              "      <td>1</td>\n",
              "      <td>4000000.0</td>\n",
              "      <td>42.0</td>\n",
              "      <td>14.0</td>\n",
              "      <td>17</td>\n",
              "      <td>891.0</td>\n",
              "      <td>867.0</td>\n",
              "      <td>62.0</td>\n",
              "      <td>1846.104451</td>\n",
              "    </tr>\n",
              "    <tr>\n",
              "      <th>11551</th>\n",
              "      <td>Greding</td>\n",
              "      <td>1</td>\n",
              "      <td>11780000.0</td>\n",
              "      <td>74.0</td>\n",
              "      <td>4.0</td>\n",
              "      <td>53</td>\n",
              "      <td>7.0</td>\n",
              "      <td>7.0</td>\n",
              "      <td>0.0</td>\n",
              "      <td>2083.941040</td>\n",
              "    </tr>\n",
              "    <tr>\n",
              "      <th>11553</th>\n",
              "      <td>Dörth</td>\n",
              "      <td>1</td>\n",
              "      <td>2050000.0</td>\n",
              "      <td>43.0</td>\n",
              "      <td>14.0</td>\n",
              "      <td>16</td>\n",
              "      <td>30.0</td>\n",
              "      <td>30.0</td>\n",
              "      <td>1.0</td>\n",
              "      <td>2209.827333</td>\n",
              "    </tr>\n",
              "    <tr>\n",
              "      <th>11554</th>\n",
              "      <td>Frankfurt</td>\n",
              "      <td>1</td>\n",
              "      <td>853500.0</td>\n",
              "      <td>63.0</td>\n",
              "      <td>14.0</td>\n",
              "      <td>14</td>\n",
              "      <td>870.0</td>\n",
              "      <td>842.0</td>\n",
              "      <td>77.0</td>\n",
              "      <td>2401.464693</td>\n",
              "    </tr>\n",
              "    <tr>\n",
              "      <th>11565</th>\n",
              "      <td>Benningen</td>\n",
              "      <td>1</td>\n",
              "      <td>10680000.0</td>\n",
              "      <td>74.0</td>\n",
              "      <td>4.0</td>\n",
              "      <td>17</td>\n",
              "      <td>319.0</td>\n",
              "      <td>317.0</td>\n",
              "      <td>10.0</td>\n",
              "      <td>2579.765989</td>\n",
              "    </tr>\n",
              "  </tbody>\n",
              "</table>\n",
              "</div>\n",
              "      <button class=\"colab-df-convert\" onclick=\"convertToInteractive('df-ec55503b-dad7-40b8-b29e-2a130013342d')\"\n",
              "              title=\"Convert this dataframe to an interactive table.\"\n",
              "              style=\"display:none;\">\n",
              "        \n",
              "  <svg xmlns=\"http://www.w3.org/2000/svg\" height=\"24px\"viewBox=\"0 0 24 24\"\n",
              "       width=\"24px\">\n",
              "    <path d=\"M0 0h24v24H0V0z\" fill=\"none\"/>\n",
              "    <path d=\"M18.56 5.44l.94 2.06.94-2.06 2.06-.94-2.06-.94-.94-2.06-.94 2.06-2.06.94zm-11 1L8.5 8.5l.94-2.06 2.06-.94-2.06-.94L8.5 2.5l-.94 2.06-2.06.94zm10 10l.94 2.06.94-2.06 2.06-.94-2.06-.94-.94-2.06-.94 2.06-2.06.94z\"/><path d=\"M17.41 7.96l-1.37-1.37c-.4-.4-.92-.59-1.43-.59-.52 0-1.04.2-1.43.59L10.3 9.45l-7.72 7.72c-.78.78-.78 2.05 0 2.83L4 21.41c.39.39.9.59 1.41.59.51 0 1.02-.2 1.41-.59l7.78-7.78 2.81-2.81c.8-.78.8-2.07 0-2.86zM5.41 20L4 18.59l7.72-7.72 1.47 1.35L5.41 20z\"/>\n",
              "  </svg>\n",
              "      </button>\n",
              "      \n",
              "  <style>\n",
              "    .colab-df-container {\n",
              "      display:flex;\n",
              "      flex-wrap:wrap;\n",
              "      gap: 12px;\n",
              "    }\n",
              "\n",
              "    .colab-df-convert {\n",
              "      background-color: #E8F0FE;\n",
              "      border: none;\n",
              "      border-radius: 50%;\n",
              "      cursor: pointer;\n",
              "      display: none;\n",
              "      fill: #1967D2;\n",
              "      height: 32px;\n",
              "      padding: 0 0 0 0;\n",
              "      width: 32px;\n",
              "    }\n",
              "\n",
              "    .colab-df-convert:hover {\n",
              "      background-color: #E2EBFA;\n",
              "      box-shadow: 0px 1px 2px rgba(60, 64, 67, 0.3), 0px 1px 3px 1px rgba(60, 64, 67, 0.15);\n",
              "      fill: #174EA6;\n",
              "    }\n",
              "\n",
              "    [theme=dark] .colab-df-convert {\n",
              "      background-color: #3B4455;\n",
              "      fill: #D2E3FC;\n",
              "    }\n",
              "\n",
              "    [theme=dark] .colab-df-convert:hover {\n",
              "      background-color: #434B5C;\n",
              "      box-shadow: 0px 1px 3px 1px rgba(0, 0, 0, 0.15);\n",
              "      filter: drop-shadow(0px 1px 2px rgba(0, 0, 0, 0.3));\n",
              "      fill: #FFFFFF;\n",
              "    }\n",
              "  </style>\n",
              "\n",
              "      <script>\n",
              "        const buttonEl =\n",
              "          document.querySelector('#df-ec55503b-dad7-40b8-b29e-2a130013342d button.colab-df-convert');\n",
              "        buttonEl.style.display =\n",
              "          google.colab.kernel.accessAllowed ? 'block' : 'none';\n",
              "\n",
              "        async function convertToInteractive(key) {\n",
              "          const element = document.querySelector('#df-ec55503b-dad7-40b8-b29e-2a130013342d');\n",
              "          const dataTable =\n",
              "            await google.colab.kernel.invokeFunction('convertToInteractive',\n",
              "                                                     [key], {});\n",
              "          if (!dataTable) return;\n",
              "\n",
              "          const docLinkHtml = 'Like what you see? Visit the ' +\n",
              "            '<a target=\"_blank\" href=https://colab.research.google.com/notebooks/data_table.ipynb>data table notebook</a>'\n",
              "            + ' to learn more about interactive tables.';\n",
              "          element.innerHTML = '';\n",
              "          dataTable['output_type'] = 'display_data';\n",
              "          await google.colab.output.renderOutput(dataTable, element);\n",
              "          const docLink = document.createElement('div');\n",
              "          docLink.innerHTML = docLinkHtml;\n",
              "          element.appendChild(docLink);\n",
              "        }\n",
              "      </script>\n",
              "    </div>\n",
              "  </div>\n",
              "  "
            ]
          },
          "metadata": {},
          "execution_count": 141
        }
      ],
      "source": [
        "customer_dt.head()"
      ]
    },
    {
      "cell_type": "code",
      "execution_count": null,
      "metadata": {
        "id": "hLZvPCtCrYWf",
        "colab": {
          "base_uri": "https://localhost:8080/",
          "height": 1000
        },
        "outputId": "c14a1b98-1222-4465-9f79-68e78a6ce3c6"
      },
      "outputs": [
        {
          "output_type": "display_data",
          "data": {
            "text/plain": [
              "<Figure size 1080x360 with 2 Axes>"
            ],
            "image/png": "[encoded data removed]"
          },
          "metadata": {
            "needs_background": "light"
          }
        },
        {
          "output_type": "display_data",
          "data": {
            "text/plain": [
              "<Figure size 1080x360 with 2 Axes>"
            ],
            "image/png": "[encoded data removed]"
          },
          "metadata": {
            "needs_background": "light"
          }
        },
        {
          "output_type": "display_data",
          "data": {
            "text/plain": [
              "<Figure size 1080x360 with 2 Axes>"
            ],
            "image/png": "[encoded data removed]"
          },
          "metadata": {
            "needs_background": "light"
          }
        },
        {
          "output_type": "display_data",
          "data": {
            "text/plain": [
              "<Figure size 1080x360 with 2 Axes>"
            ],
            "image/png": "[encoded data removed]"
          },
          "metadata": {
            "needs_background": "light"
          }
        },
        {
          "output_type": "stream",
          "name": "stdout",
          "text": [
            "Q1 for 'Revenue' in customer_dt is: 1047500.0\n",
            "Q2 (median) for 'Revenue' in customer_dt is: 2200000.0\n",
            "Q3 for 'Revenue' in customer_dt is: 4195000.0\n",
            "\n",
            "\n",
            "Q1 for 'Mobile_potential' in customer_dt is: 2090.6967281537\n",
            "Q2 (median) for 'Mobile_potential' in customer_dt is: 2401.464692530968\n",
            "Q3 for 'Mobile_potential' in customer_dt is: 2826.2351826061667\n",
            "\n",
            "\n",
            "Q1 for 'Revenue' in noncustomer_dt is: 902986.0\n",
            "Q2 (median) for 'Revenue' in noncustomer_dt is: 1750000.0\n",
            "Q3 for 'Revenue' in noncustomer_dt is: 3501123.5\n",
            "\n",
            "\n",
            "Q1 for 'Mobile_potential' in noncustomer_dt is: 1975.5165190653966\n",
            "Q2 (median) for 'Mobile_potential' in noncustomer_dt is: 2277.9727974861535\n",
            "Q3 for 'Mobile_potential' in noncustomer_dt is: 2631.926166103982\n"
          ]
        }
      ],
      "source": [
        "#BOXPLOTS CUSTOMER_DT AND NONCUSTOMER_DT\n",
        "fig1, ax1 = pyplot.subplots(1,2,figsize = (15,5))\n",
        "ax1[0].set_title('Mobile_potential - customer_dt')\n",
        "ax1[0].boxplot(customer_dt['Mobile_potential'])\n",
        "ax1[1].set_title('Mobile_potential - noncustomer-dt')\n",
        "ax1[1].boxplot(noncustomer_dt['Mobile_potential'])\n",
        "\n",
        "fig2, ax2 = pyplot.subplots(1,2,figsize = (15,5))\n",
        "ax2[0].set_title('CNT_EMPLOYEE - customer_dt')\n",
        "ax2[0].boxplot(customer_dt['CNT_EMPLOYEE'])\n",
        "ax2[1].set_title('CNT_EMPLOYEE - noncustomer-dt')\n",
        "ax2[1].boxplot(noncustomer_dt['CNT_EMPLOYEE'])\n",
        "\n",
        "\n",
        "fig3, ax3 = pyplot.subplots(1,2,figsize = (15,5))\n",
        "ax3[0].set_title('Revenue - customer_dt')\n",
        "ax3[0].boxplot(customer_dt['Revenue'])\n",
        "ax3[1].set_title('Revenue - noncustomer-dt')\n",
        "ax3[1].boxplot(noncustomer_dt['Revenue'])\n",
        "\n",
        "fig4, ax4 = pyplot.subplots(1,2,figsize = (15,5))\n",
        "ax4[0].set_title('CNT_CB_DENSITY - customer_dt')\n",
        "ax4[0].boxplot(customer_dt['CNT_CB_DENSITY'])\n",
        "ax4[1].set_title('CNT_CB_DENSITY - noncustomer-dt')\n",
        "ax4[1].boxplot(noncustomer_dt['CNT_CB_DENSITY'])\n",
        "\n",
        "pyplot.show()\n",
        "\n",
        "print(\"Q1 for 'Revenue' in customer_dt is:\", customer_dt[\"Revenue\"].quantile(0.25))\n",
        "print(\"Q2 (median) for 'Revenue' in customer_dt is:\", customer_dt[\"Revenue\"].median())\n",
        "print(\"Q3 for 'Revenue' in customer_dt is:\", customer_dt[\"Revenue\"].quantile(0.75))\n",
        "print(\"\\n\")\n",
        "print(\"Q1 for 'Mobile_potential' in customer_dt is:\", customer_dt[\"Mobile_potential\"].quantile(0.25))\n",
        "print(\"Q2 (median) for 'Mobile_potential' in customer_dt is:\", customer_dt[\"Mobile_potential\"].median())\n",
        "print(\"Q3 for 'Mobile_potential' in customer_dt is:\", customer_dt[\"Mobile_potential\"].quantile(0.75))\n",
        "print(\"\\n\")\n",
        "print(\"Q1 for 'Revenue' in noncustomer_dt is:\", noncustomer_dt[\"Revenue\"].quantile(0.25))\n",
        "print(\"Q2 (median) for 'Revenue' in noncustomer_dt is:\", noncustomer_dt[\"Revenue\"].median())\n",
        "print(\"Q3 for 'Revenue' in noncustomer_dt is:\", noncustomer_dt[\"Revenue\"].quantile(0.75))\n",
        "print(\"\\n\")\n",
        "print(\"Q1 for 'Mobile_potential' in noncustomer_dt is:\", noncustomer_dt[\"Mobile_potential\"].quantile(0.25))\n",
        "print(\"Q2 (median) for 'Mobile_potential' in noncustomer_dt is:\", noncustomer_dt[\"Mobile_potential\"].median())\n",
        "print(\"Q3 for 'Mobile_potential' in noncustomer_dt is:\", noncustomer_dt[\"Mobile_potential\"].quantile(0.75))"
      ]
    },
    {
      "cell_type": "code",
      "source": [
        "#TO SEE WHICH DATASET HAS HIGHER VALUE FOR CNT_EMPLOYEE\n",
        "print(customer_dt[\"CNT_EMPLOYEE\"].describe())\n",
        "print('\\n',noncustomer_dt[\"CNT_EMPLOYEE\"].describe())"
      ],
      "metadata": {
        "colab": {
          "base_uri": "https://localhost:8080/"
        },
        "id": "114zW3N047-z",
        "outputId": "bcd5f809-e3d4-4709-f707-31a372e65bd9"
      },
      "execution_count": null,
      "outputs": [
        {
          "output_type": "stream",
          "name": "stdout",
          "text": [
            "count    1111.000000\n",
            "mean       26.064806\n",
            "std        11.302369\n",
            "min        10.000000\n",
            "25%        17.000000\n",
            "50%        23.000000\n",
            "75%        34.000000\n",
            "max        55.000000\n",
            "Name: CNT_EMPLOYEE, dtype: float64\n",
            "\n",
            " count    5876.000000\n",
            "mean       23.455582\n",
            "std        10.744597\n",
            "min        10.000000\n",
            "25%        15.000000\n",
            "50%        20.000000\n",
            "75%        29.000000\n",
            "max        55.000000\n",
            "Name: CNT_EMPLOYEE, dtype: float64\n"
          ]
        }
      ]
    },
    {
      "cell_type": "code",
      "source": [
        "#COUNTING OUTLIERS IN REVENUE:\n",
        "IQR_1 = iqr(customer_dt[\"Revenue\"])\n",
        "IQR_2 = iqr(noncustomer_dt[\"Revenue\"])\n",
        "\n",
        "df1 = customer_dt[customer_dt['Revenue']>1.5*IQR_1]\n",
        "df2 = noncustomer_dt[noncustomer_dt['Revenue']>1.5*IQR_2]\n",
        "\n",
        "print(\"Outliers of revenue in customer_dt: \", len(df1['Revenue']))\n",
        "print(\"Outliers of revenue in noncustomer_dt: \",len(df2['Revenue']))\n"
      ],
      "metadata": {
        "id": "vSeDagEG6PX3",
        "colab": {
          "base_uri": "https://localhost:8080/"
        },
        "outputId": "8030b17a-91c4-4e6f-dcf1-21d9aca613d0"
      },
      "execution_count": null,
      "outputs": [
        {
          "output_type": "stream",
          "name": "stdout",
          "text": [
            "Outliers of revenue in customer_dt:  250\n",
            "Outliers of revenue in noncustomer_dt:  1351\n"
          ]
        }
      ]
    },
    {
      "cell_type": "markdown",
      "source": [
        "As we observe from the boxplots, some of them present outliers. There are several mechanisms to eliminate outliers. One option is to eliminate the values higher than a statistical value for each numerical variable."
      ],
      "metadata": {
        "id": "s9vF8rKf3CuW"
      }
    },
    {
      "cell_type": "markdown",
      "metadata": {
        "id": "Ch2z9KLh5LJm"
      },
      "source": [
        "[**EX4**] [**CODE**] Remove the values higher than 5* IQR for each variable: `Revenue`, `CNT_EMPLOYEE`, `Mobile_potential`, `CNT_CB_DENSITY`, `CNT_CB_MOB_DENSITY`and `CNT_CB_FN_DENSITY`. Compare with the boxplot of the previous exercise [**EX3**] and explain the differences."
      ]
    },
    {
      "cell_type": "code",
      "execution_count": null,
      "metadata": {
        "id": "ZkpD37jF1r_7",
        "colab": {
          "base_uri": "https://localhost:8080/",
          "height": 1000
        },
        "outputId": "abaa6492-3773-4505-fea5-441d0d822ff3"
      },
      "outputs": [
        {
          "output_type": "display_data",
          "data": {
            "text/plain": [
              "<Figure size 1080x360 with 2 Axes>"
            ],
            "image/png": "[encoded data removed]"
          },
          "metadata": {
            "needs_background": "light"
          }
        },
        {
          "output_type": "display_data",
          "data": {
            "text/plain": [
              "<Figure size 1080x360 with 2 Axes>"
            ],
            "image/png": "[encoded data removed]"
          },
          "metadata": {
            "needs_background": "light"
          }
        },
        {
          "output_type": "display_data",
          "data": {
            "text/plain": [
              "<Figure size 1080x360 with 2 Axes>"
            ],
            "image/png": "[encoded data removed]"
          },
          "metadata": {
            "needs_background": "light"
          }
        },
        {
          "output_type": "display_data",
          "data": {
            "text/plain": [
              "<Figure size 1080x360 with 2 Axes>"
            ],
            "image/png": "[encoded data removed]"
          },
          "metadata": {
            "needs_background": "light"
          }
        },
        {
          "output_type": "display_data",
          "data": {
            "text/plain": [
              "<Figure size 1080x360 with 2 Axes>"
            ],
            "image/png": "[encoded data removed]"
          },
          "metadata": {
            "needs_background": "light"
          }
        },
        {
          "output_type": "display_data",
          "data": {
            "text/plain": [
              "<Figure size 1080x360 with 2 Axes>"
            ],
            "image/png": "[encoded data removed]"
          },
          "metadata": {
            "needs_background": "light"
          }
        }
      ],
      "source": [
        "#REMOVING OUTLIERS AND PLOTTING NEW BOXPPLOTS\n",
        "customer_dt = customer_dt[(customer_dt [\"Revenue\"]<=5*iqr(customer_dt[\"Revenue\"])) &\n",
        "                          (customer_dt [\"CNT_EMPLOYEE\"]<=5*iqr(customer_dt[\"CNT_EMPLOYEE\"])) &\n",
        "                          (customer_dt [\"Mobile_potential\"]<=5*iqr(customer_dt[\"Mobile_potential\"])) &\n",
        "                          (customer_dt [\"CNT_CB_DENSITY\"]<=5*iqr(customer_dt[\"CNT_CB_DENSITY\"])) &\n",
        "                          (customer_dt [\"CNT_CB_MOB_DENSITY\"]<=5*iqr(customer_dt[\"CNT_CB_MOB_DENSITY\"])) &\n",
        "                          (customer_dt [\"CNT_CB_FN_DENSITY\"]<=5*iqr(customer_dt[\"CNT_CB_FN_DENSITY\"]))]\n",
        "\n",
        "noncustomer_dt = noncustomer_dt[(noncustomer_dt [\"Revenue\"]<=5*iqr(noncustomer_dt[\"Revenue\"])) &\n",
        "                          (noncustomer_dt [\"CNT_EMPLOYEE\"]<=5*iqr(noncustomer_dt[\"CNT_EMPLOYEE\"])) &\n",
        "                          (noncustomer_dt [\"Mobile_potential\"]<=5*iqr(noncustomer_dt[\"Mobile_potential\"])) &\n",
        "                          (noncustomer_dt [\"CNT_CB_DENSITY\"]<=5*iqr(noncustomer_dt[\"CNT_CB_DENSITY\"])) &\n",
        "                          (noncustomer_dt [\"CNT_CB_MOB_DENSITY\"]<=5*iqr(noncustomer_dt[\"CNT_CB_MOB_DENSITY\"])) &\n",
        "                          (noncustomer_dt [\"CNT_CB_FN_DENSITY\"]<=5*iqr(noncustomer_dt[\"CNT_CB_FN_DENSITY\"]))]\n",
        "\n",
        "fig1, ax1 = pyplot.subplots(1,2,figsize = (15,5))\n",
        "ax1[0].set_title('Mobile_potential - customer_dt')\n",
        "ax1[0].boxplot(customer_dt['Mobile_potential'])\n",
        "ax1[1].set_title('Mobile_potential - noncustomer-dt')\n",
        "ax1[1].boxplot(noncustomer_dt['Mobile_potential'])\n",
        "\n",
        "fig2, ax2 = pyplot.subplots(1,2,figsize = (15,5))\n",
        "ax2[0].set_title('CNT_EMPLOYEE - customer_dt')\n",
        "ax2[0].boxplot(customer_dt['CNT_EMPLOYEE'])\n",
        "ax2[1].set_title('CNT_EMPLOYEE - noncustomer-dt')\n",
        "ax2[1].boxplot(noncustomer_dt['CNT_EMPLOYEE'])\n",
        "\n",
        "fig3, ax3 = pyplot.subplots(1,2,figsize = (15,5))\n",
        "ax3[0].set_title('Revenue - customer_dt')\n",
        "ax3[0].boxplot(customer_dt['Revenue'])\n",
        "ax3[1].set_title('Revenue - noncustomer-dt')\n",
        "ax3[1].boxplot(noncustomer_dt['Revenue'])\n",
        "\n",
        "fig4, ax4 = pyplot.subplots(1,2,figsize = (15,5))\n",
        "ax4[0].set_title('CNT_CB_DENSITY - customer_dt')\n",
        "ax4[0].boxplot(customer_dt['CNT_CB_DENSITY'])\n",
        "ax4[1].set_title('CNT_CB_DENSITY - noncustomer-dt')\n",
        "ax4[1].boxplot(noncustomer_dt['CNT_CB_DENSITY'])\n",
        "\n",
        "fig5, ax5 = pyplot.subplots(1,2,figsize = (15,5))\n",
        "ax5[0].set_title('CNT_CB_MOB_DENSITY - customer_dt')\n",
        "ax5[0].boxplot(customer_dt['CNT_CB_MOB_DENSITY'])\n",
        "ax5[1].set_title('CNT_CB_MOB_DENSITY - noncustomer-dt')\n",
        "ax5[1].boxplot(noncustomer_dt['CNT_CB_MOB_DENSITY'])\n",
        "\n",
        "fig6, ax6 = pyplot.subplots(1,2,figsize = (15,5))\n",
        "ax6[0].set_title('CNT_CB_FN_DENSITY - customer_dt')\n",
        "ax6[0].boxplot(customer_dt['CNT_CB_FN_DENSITY'])\n",
        "ax6[1].set_title('CNT_CB_FN_DENSITY - noncustomer-dt')\n",
        "ax6[1].boxplot(noncustomer_dt['CNT_CB_FN_DENSITY'])\n",
        "\n",
        "pyplot.show()\n"
      ]
    },
    {
      "cell_type": "markdown",
      "source": [
        "### **ANSWERS AND OBSERVATIONS:**\n",
        "By comparing with the boxplots of the previous exercise [EX3] we can see that obviously, the number of outliers has diminished. Roughly, what this has generated is a little drop in the mean, median and the standard deviation of these new boxplots."
      ],
      "metadata": {
        "id": "A0pHDottuhTN"
      }
    },
    {
      "cell_type": "markdown",
      "source": [
        "\n",
        "\n",
        "---\n",
        "\n"
      ],
      "metadata": {
        "id": "mus8YCKw26dY"
      }
    },
    {
      "cell_type": "markdown",
      "metadata": {
        "id": "QT-ULfjoKLhv"
      },
      "source": [
        "On the other hand, before applying any classification algorithm, it is necessary to transform non-numerical variables. The most common transformations are **coding as integer** or **coding as dummies**. Before deciding the mechanism it is important to analyze, for each categorical variable, their number of different values and their frequencies. In case of high number of possible values in comparision with the size of the dataset, **dummy** transformation could generate sparse matrix."
      ]
    },
    {
      "cell_type": "markdown",
      "metadata": {
        "id": "TfWf0K_-KLhv"
      },
      "source": [
        "[**EX5**] [**REPORT**] Calculate the ratio of the values of `City` for `customer_dt` and `noncustomer_dt` datasets. Compare the ratio of each category of each dataset."
      ]
    },
    {
      "cell_type": "code",
      "execution_count": null,
      "metadata": {
        "id": "uBuevOMBzVh3",
        "colab": {
          "base_uri": "https://localhost:8080/"
        },
        "outputId": "5ced9c4a-bab4-4c19-e85d-66c33b7538e0"
      },
      "outputs": [
        {
          "output_type": "stream",
          "name": "stdout",
          "text": [
            "Ratio of the values of City for customer_dt dataset \n",
            "  München         0.024059\n",
            "Köln            0.020921\n",
            "Chemnitz        0.017782\n",
            "Dresden         0.015690\n",
            "Berlin          0.015690\n",
            "                  ...   \n",
            "Hiddenhausen    0.001046\n",
            "Eppelheim       0.001046\n",
            "Flörsheim       0.001046\n",
            "Bad Abbach      0.001046\n",
            "Wedemark        0.001046\n",
            "Name: City, Length: 557, dtype: float64\n"
          ]
        }
      ],
      "source": [
        "ratio_customer = customer_dt[\"City\"].value_counts(normalize=True)\n",
        "print(\"Ratio of the values of City for customer_dt dataset \\n \",ratio_customer) "
      ]
    },
    {
      "cell_type": "code",
      "source": [
        "ratio_noncustomer = noncustomer_dt[\"City\"].value_counts(normalize=True)\n",
        "print(\"Ratio of the values of City for noncustomer_dt dataset\\n \",ratio_noncustomer) "
      ],
      "metadata": {
        "colab": {
          "base_uri": "https://localhost:8080/"
        },
        "id": "LOLo3Chd8HJs",
        "outputId": "b23124a3-ded4-43b5-94c3-66cff45ddfca"
      },
      "execution_count": null,
      "outputs": [
        {
          "output_type": "stream",
          "name": "stdout",
          "text": [
            "Ratio of the values of City for noncustomer_dt dataset\n",
            "  Köln          0.016093\n",
            "Bremen        0.009982\n",
            "Stuttgart     0.009778\n",
            "Dortmund      0.009371\n",
            "Dresden       0.009167\n",
            "                ...   \n",
            "Salzbergen    0.000204\n",
            "Bonstetten    0.000204\n",
            "Neusäß        0.000204\n",
            "Wolfhagen     0.000204\n",
            "Solms         0.000204\n",
            "Name: City, Length: 2126, dtype: float64\n"
          ]
        }
      ]
    },
    {
      "cell_type": "markdown",
      "metadata": {
        "id": "0bCyWWPTKLhy"
      },
      "source": [
        "As the number of distinct values is high, we will apply a **integer** encoding through the LabelEncoder() transformation as follows:"
      ]
    },
    {
      "cell_type": "code",
      "execution_count": null,
      "metadata": {
        "id": "TXNcauVKr7Hc"
      },
      "outputs": [],
      "source": [
        "City_Categ=customer_dt['City'].append(noncustomer_dt['City'])"
      ]
    },
    {
      "cell_type": "code",
      "execution_count": null,
      "metadata": {
        "id": "xmVB9fmfr-XN"
      },
      "outputs": [],
      "source": [
        "city_encoder=LabelEncoder()\n",
        "city_encoder.fit(City_Categ.values)\n",
        "customer_dt['City_coded']=city_encoder.transform(customer_dt['City'].values)\n",
        "noncustomer_dt['City_coded']=city_encoder.transform(noncustomer_dt['City'].values)"
      ]
    },
    {
      "cell_type": "code",
      "execution_count": null,
      "metadata": {
        "id": "wOUYZQ2Cr_jv",
        "colab": {
          "base_uri": "https://localhost:8080/",
          "height": 206
        },
        "outputId": "f6b7e7ee-99d6-48fc-83d1-3fb275af45c5"
      },
      "outputs": [
        {
          "output_type": "execute_result",
          "data": {
            "text/plain": [
              "            City  Customer_Flag     Revenue  Sector  Legal_Form_Code  \\\n",
              "11548       Haar              1   4000000.0    42.0             14.0   \n",
              "11551    Greding              1  11780000.0    74.0              4.0   \n",
              "11553      Dörth              1   2050000.0    43.0             14.0   \n",
              "11554  Frankfurt              1    853500.0    63.0             14.0   \n",
              "11565  Benningen              1  10680000.0    74.0              4.0   \n",
              "\n",
              "       CNT_EMPLOYEE  CNT_CB_DENSITY  CNT_CB_MOB_DENSITY  CNT_CB_FN_DENSITY  \\\n",
              "11548            17           891.0               867.0               62.0   \n",
              "11551            53             7.0                 7.0                0.0   \n",
              "11553            16            30.0                30.0                1.0   \n",
              "11554            14           870.0               842.0               77.0   \n",
              "11565            17           319.0               317.0               10.0   \n",
              "\n",
              "       Mobile_potential  City_coded  \n",
              "11548       1846.104451         785  \n",
              "11551       2083.941040         723  \n",
              "11553       2209.827333         443  \n",
              "11554       2401.464693         592  \n",
              "11565       2579.765989         205  "
            ],
            "text/html": [
              "\n",
              "  <div id=\"df-5a37f305-f931-4d6b-b19c-c7b1b9391af5\">\n",
              "    <div class=\"colab-df-container\">\n",
              "      <div>\n",
              "<style scoped>\n",
              "    .dataframe tbody tr th:only-of-type {\n",
              "        vertical-align: middle;\n",
              "    }\n",
              "\n",
              "    .dataframe tbody tr th {\n",
              "        vertical-align: top;\n",
              "    }\n",
              "\n",
              "    .dataframe thead th {\n",
              "        text-align: right;\n",
              "    }\n",
              "</style>\n",
              "<table border=\"1\" class=\"dataframe\">\n",
              "  <thead>\n",
              "    <tr style=\"text-align: right;\">\n",
              "      <th></th>\n",
              "      <th>City</th>\n",
              "      <th>Customer_Flag</th>\n",
              "      <th>Revenue</th>\n",
              "      <th>Sector</th>\n",
              "      <th>Legal_Form_Code</th>\n",
              "      <th>CNT_EMPLOYEE</th>\n",
              "      <th>CNT_CB_DENSITY</th>\n",
              "      <th>CNT_CB_MOB_DENSITY</th>\n",
              "      <th>CNT_CB_FN_DENSITY</th>\n",
              "      <th>Mobile_potential</th>\n",
              "      <th>City_coded</th>\n",
              "    </tr>\n",
              "  </thead>\n",
              "  <tbody>\n",
              "    <tr>\n",
              "      <th>11548</th>\n",
              "      <td>Haar</td>\n",
              "      <td>1</td>\n",
              "      <td>4000000.0</td>\n",
              "      <td>42.0</td>\n",
              "      <td>14.0</td>\n",
              "      <td>17</td>\n",
              "      <td>891.0</td>\n",
              "      <td>867.0</td>\n",
              "      <td>62.0</td>\n",
              "      <td>1846.104451</td>\n",
              "      <td>785</td>\n",
              "    </tr>\n",
              "    <tr>\n",
              "      <th>11551</th>\n",
              "      <td>Greding</td>\n",
              "      <td>1</td>\n",
              "      <td>11780000.0</td>\n",
              "      <td>74.0</td>\n",
              "      <td>4.0</td>\n",
              "      <td>53</td>\n",
              "      <td>7.0</td>\n",
              "      <td>7.0</td>\n",
              "      <td>0.0</td>\n",
              "      <td>2083.941040</td>\n",
              "      <td>723</td>\n",
              "    </tr>\n",
              "    <tr>\n",
              "      <th>11553</th>\n",
              "      <td>Dörth</td>\n",
              "      <td>1</td>\n",
              "      <td>2050000.0</td>\n",
              "      <td>43.0</td>\n",
              "      <td>14.0</td>\n",
              "      <td>16</td>\n",
              "      <td>30.0</td>\n",
              "      <td>30.0</td>\n",
              "      <td>1.0</td>\n",
              "      <td>2209.827333</td>\n",
              "      <td>443</td>\n",
              "    </tr>\n",
              "    <tr>\n",
              "      <th>11554</th>\n",
              "      <td>Frankfurt</td>\n",
              "      <td>1</td>\n",
              "      <td>853500.0</td>\n",
              "      <td>63.0</td>\n",
              "      <td>14.0</td>\n",
              "      <td>14</td>\n",
              "      <td>870.0</td>\n",
              "      <td>842.0</td>\n",
              "      <td>77.0</td>\n",
              "      <td>2401.464693</td>\n",
              "      <td>592</td>\n",
              "    </tr>\n",
              "    <tr>\n",
              "      <th>11565</th>\n",
              "      <td>Benningen</td>\n",
              "      <td>1</td>\n",
              "      <td>10680000.0</td>\n",
              "      <td>74.0</td>\n",
              "      <td>4.0</td>\n",
              "      <td>17</td>\n",
              "      <td>319.0</td>\n",
              "      <td>317.0</td>\n",
              "      <td>10.0</td>\n",
              "      <td>2579.765989</td>\n",
              "      <td>205</td>\n",
              "    </tr>\n",
              "  </tbody>\n",
              "</table>\n",
              "</div>\n",
              "      <button class=\"colab-df-convert\" onclick=\"convertToInteractive('df-5a37f305-f931-4d6b-b19c-c7b1b9391af5')\"\n",
              "              title=\"Convert this dataframe to an interactive table.\"\n",
              "              style=\"display:none;\">\n",
              "        \n",
              "  <svg xmlns=\"http://www.w3.org/2000/svg\" height=\"24px\"viewBox=\"0 0 24 24\"\n",
              "       width=\"24px\">\n",
              "    <path d=\"M0 0h24v24H0V0z\" fill=\"none\"/>\n",
              "    <path d=\"M18.56 5.44l.94 2.06.94-2.06 2.06-.94-2.06-.94-.94-2.06-.94 2.06-2.06.94zm-11 1L8.5 8.5l.94-2.06 2.06-.94-2.06-.94L8.5 2.5l-.94 2.06-2.06.94zm10 10l.94 2.06.94-2.06 2.06-.94-2.06-.94-.94-2.06-.94 2.06-2.06.94z\"/><path d=\"M17.41 7.96l-1.37-1.37c-.4-.4-.92-.59-1.43-.59-.52 0-1.04.2-1.43.59L10.3 9.45l-7.72 7.72c-.78.78-.78 2.05 0 2.83L4 21.41c.39.39.9.59 1.41.59.51 0 1.02-.2 1.41-.59l7.78-7.78 2.81-2.81c.8-.78.8-2.07 0-2.86zM5.41 20L4 18.59l7.72-7.72 1.47 1.35L5.41 20z\"/>\n",
              "  </svg>\n",
              "      </button>\n",
              "      \n",
              "  <style>\n",
              "    .colab-df-container {\n",
              "      display:flex;\n",
              "      flex-wrap:wrap;\n",
              "      gap: 12px;\n",
              "    }\n",
              "\n",
              "    .colab-df-convert {\n",
              "      background-color: #E8F0FE;\n",
              "      border: none;\n",
              "      border-radius: 50%;\n",
              "      cursor: pointer;\n",
              "      display: none;\n",
              "      fill: #1967D2;\n",
              "      height: 32px;\n",
              "      padding: 0 0 0 0;\n",
              "      width: 32px;\n",
              "    }\n",
              "\n",
              "    .colab-df-convert:hover {\n",
              "      background-color: #E2EBFA;\n",
              "      box-shadow: 0px 1px 2px rgba(60, 64, 67, 0.3), 0px 1px 3px 1px rgba(60, 64, 67, 0.15);\n",
              "      fill: #174EA6;\n",
              "    }\n",
              "\n",
              "    [theme=dark] .colab-df-convert {\n",
              "      background-color: #3B4455;\n",
              "      fill: #D2E3FC;\n",
              "    }\n",
              "\n",
              "    [theme=dark] .colab-df-convert:hover {\n",
              "      background-color: #434B5C;\n",
              "      box-shadow: 0px 1px 3px 1px rgba(0, 0, 0, 0.15);\n",
              "      filter: drop-shadow(0px 1px 2px rgba(0, 0, 0, 0.3));\n",
              "      fill: #FFFFFF;\n",
              "    }\n",
              "  </style>\n",
              "\n",
              "      <script>\n",
              "        const buttonEl =\n",
              "          document.querySelector('#df-5a37f305-f931-4d6b-b19c-c7b1b9391af5 button.colab-df-convert');\n",
              "        buttonEl.style.display =\n",
              "          google.colab.kernel.accessAllowed ? 'block' : 'none';\n",
              "\n",
              "        async function convertToInteractive(key) {\n",
              "          const element = document.querySelector('#df-5a37f305-f931-4d6b-b19c-c7b1b9391af5');\n",
              "          const dataTable =\n",
              "            await google.colab.kernel.invokeFunction('convertToInteractive',\n",
              "                                                     [key], {});\n",
              "          if (!dataTable) return;\n",
              "\n",
              "          const docLinkHtml = 'Like what you see? Visit the ' +\n",
              "            '<a target=\"_blank\" href=https://colab.research.google.com/notebooks/data_table.ipynb>data table notebook</a>'\n",
              "            + ' to learn more about interactive tables.';\n",
              "          element.innerHTML = '';\n",
              "          dataTable['output_type'] = 'display_data';\n",
              "          await google.colab.output.renderOutput(dataTable, element);\n",
              "          const docLink = document.createElement('div');\n",
              "          docLink.innerHTML = docLinkHtml;\n",
              "          element.appendChild(docLink);\n",
              "        }\n",
              "      </script>\n",
              "    </div>\n",
              "  </div>\n",
              "  "
            ]
          },
          "metadata": {},
          "execution_count": 107
        }
      ],
      "source": [
        "customer_dt.head()"
      ]
    },
    {
      "cell_type": "markdown",
      "metadata": {
        "id": "i5BjRBWgKLh7"
      },
      "source": [
        "[**EX5**] [**CODE**] Finally before entering in the training stage,  let's create a `final_dataset` that is the result of stacking `customer_dt`and `noncustomer_dt`considering the following variables: `City_coded`, `Revenue`, `Sector`, `Legal_Form_Code`, `CNT_EMPLOYEE`, `CNT_CB_DENSITY`, `CNT_CB_MOB_DENSITY`, `CNT_CB_FN_DENSITY`and `Mobile_potential`. The 'final_dataset' should include a new variable, `Target`, that takes value **0** for noncustomers and **1** for customers registers. The `Target` will distiguish the two classes to train the model."
      ]
    },
    {
      "cell_type": "code",
      "execution_count": null,
      "metadata": {
        "id": "TFbnNjXyJW51"
      },
      "outputs": [],
      "source": [
        "final_dataset = customer_dt.merge(noncustomer_dt, on=['City_coded','Revenue','Sector','Legal_Form_Code','CNT_EMPLOYEE','CNT_CB_DENSITY', 'CNT_CB_MOB_DENSITY', 'CNT_CB_FN_DENSITY', 'Mobile_potential', 'Customer_Flag'], how='outer')"
      ]
    },
    {
      "cell_type": "code",
      "execution_count": null,
      "metadata": {
        "colab": {
          "base_uri": "https://localhost:8080/",
          "height": 206
        },
        "id": "1Gyy2lizNpoj",
        "outputId": "fb2d0793-c2b8-4d60-d1c6-f41766d53989"
      },
      "outputs": [
        {
          "output_type": "execute_result",
          "data": {
            "text/plain": [
              "   City_coded     Revenue  Sector  Legal_Form_Code  CNT_EMPLOYEE  \\\n",
              "0         785   4000000.0    42.0             14.0            17   \n",
              "1         723  11780000.0    74.0              4.0            53   \n",
              "2         443   2050000.0    43.0             14.0            16   \n",
              "3         592    853500.0    63.0             14.0            14   \n",
              "4         205  10680000.0    74.0              4.0            17   \n",
              "\n",
              "   CNT_CB_DENSITY  CNT_CB_MOB_DENSITY  CNT_CB_FN_DENSITY  Mobile_potential  \\\n",
              "0           891.0               867.0               62.0       1846.104451   \n",
              "1             7.0                 7.0                0.0       2083.941040   \n",
              "2            30.0                30.0                1.0       2209.827333   \n",
              "3           870.0               842.0               77.0       2401.464693   \n",
              "4           319.0               317.0               10.0       2579.765989   \n",
              "\n",
              "   Target  \n",
              "0       1  \n",
              "1       1  \n",
              "2       1  \n",
              "3       1  \n",
              "4       1  "
            ],
            "text/html": [
              "\n",
              "  <div id=\"df-89aaf187-fd0a-43ed-9844-45935a1f85cc\">\n",
              "    <div class=\"colab-df-container\">\n",
              "      <div>\n",
              "<style scoped>\n",
              "    .dataframe tbody tr th:only-of-type {\n",
              "        vertical-align: middle;\n",
              "    }\n",
              "\n",
              "    .dataframe tbody tr th {\n",
              "        vertical-align: top;\n",
              "    }\n",
              "\n",
              "    .dataframe thead th {\n",
              "        text-align: right;\n",
              "    }\n",
              "</style>\n",
              "<table border=\"1\" class=\"dataframe\">\n",
              "  <thead>\n",
              "    <tr style=\"text-align: right;\">\n",
              "      <th></th>\n",
              "      <th>City_coded</th>\n",
              "      <th>Revenue</th>\n",
              "      <th>Sector</th>\n",
              "      <th>Legal_Form_Code</th>\n",
              "      <th>CNT_EMPLOYEE</th>\n",
              "      <th>CNT_CB_DENSITY</th>\n",
              "      <th>CNT_CB_MOB_DENSITY</th>\n",
              "      <th>CNT_CB_FN_DENSITY</th>\n",
              "      <th>Mobile_potential</th>\n",
              "      <th>Target</th>\n",
              "    </tr>\n",
              "  </thead>\n",
              "  <tbody>\n",
              "    <tr>\n",
              "      <th>0</th>\n",
              "      <td>785</td>\n",
              "      <td>4000000.0</td>\n",
              "      <td>42.0</td>\n",
              "      <td>14.0</td>\n",
              "      <td>17</td>\n",
              "      <td>891.0</td>\n",
              "      <td>867.0</td>\n",
              "      <td>62.0</td>\n",
              "      <td>1846.104451</td>\n",
              "      <td>1</td>\n",
              "    </tr>\n",
              "    <tr>\n",
              "      <th>1</th>\n",
              "      <td>723</td>\n",
              "      <td>11780000.0</td>\n",
              "      <td>74.0</td>\n",
              "      <td>4.0</td>\n",
              "      <td>53</td>\n",
              "      <td>7.0</td>\n",
              "      <td>7.0</td>\n",
              "      <td>0.0</td>\n",
              "      <td>2083.941040</td>\n",
              "      <td>1</td>\n",
              "    </tr>\n",
              "    <tr>\n",
              "      <th>2</th>\n",
              "      <td>443</td>\n",
              "      <td>2050000.0</td>\n",
              "      <td>43.0</td>\n",
              "      <td>14.0</td>\n",
              "      <td>16</td>\n",
              "      <td>30.0</td>\n",
              "      <td>30.0</td>\n",
              "      <td>1.0</td>\n",
              "      <td>2209.827333</td>\n",
              "      <td>1</td>\n",
              "    </tr>\n",
              "    <tr>\n",
              "      <th>3</th>\n",
              "      <td>592</td>\n",
              "      <td>853500.0</td>\n",
              "      <td>63.0</td>\n",
              "      <td>14.0</td>\n",
              "      <td>14</td>\n",
              "      <td>870.0</td>\n",
              "      <td>842.0</td>\n",
              "      <td>77.0</td>\n",
              "      <td>2401.464693</td>\n",
              "      <td>1</td>\n",
              "    </tr>\n",
              "    <tr>\n",
              "      <th>4</th>\n",
              "      <td>205</td>\n",
              "      <td>10680000.0</td>\n",
              "      <td>74.0</td>\n",
              "      <td>4.0</td>\n",
              "      <td>17</td>\n",
              "      <td>319.0</td>\n",
              "      <td>317.0</td>\n",
              "      <td>10.0</td>\n",
              "      <td>2579.765989</td>\n",
              "      <td>1</td>\n",
              "    </tr>\n",
              "  </tbody>\n",
              "</table>\n",
              "</div>\n",
              "      <button class=\"colab-df-convert\" onclick=\"convertToInteractive('df-89aaf187-fd0a-43ed-9844-45935a1f85cc')\"\n",
              "              title=\"Convert this dataframe to an interactive table.\"\n",
              "              style=\"display:none;\">\n",
              "        \n",
              "  <svg xmlns=\"http://www.w3.org/2000/svg\" height=\"24px\"viewBox=\"0 0 24 24\"\n",
              "       width=\"24px\">\n",
              "    <path d=\"M0 0h24v24H0V0z\" fill=\"none\"/>\n",
              "    <path d=\"M18.56 5.44l.94 2.06.94-2.06 2.06-.94-2.06-.94-.94-2.06-.94 2.06-2.06.94zm-11 1L8.5 8.5l.94-2.06 2.06-.94-2.06-.94L8.5 2.5l-.94 2.06-2.06.94zm10 10l.94 2.06.94-2.06 2.06-.94-2.06-.94-.94-2.06-.94 2.06-2.06.94z\"/><path d=\"M17.41 7.96l-1.37-1.37c-.4-.4-.92-.59-1.43-.59-.52 0-1.04.2-1.43.59L10.3 9.45l-7.72 7.72c-.78.78-.78 2.05 0 2.83L4 21.41c.39.39.9.59 1.41.59.51 0 1.02-.2 1.41-.59l7.78-7.78 2.81-2.81c.8-.78.8-2.07 0-2.86zM5.41 20L4 18.59l7.72-7.72 1.47 1.35L5.41 20z\"/>\n",
              "  </svg>\n",
              "      </button>\n",
              "      \n",
              "  <style>\n",
              "    .colab-df-container {\n",
              "      display:flex;\n",
              "      flex-wrap:wrap;\n",
              "      gap: 12px;\n",
              "    }\n",
              "\n",
              "    .colab-df-convert {\n",
              "      background-color: #E8F0FE;\n",
              "      border: none;\n",
              "      border-radius: 50%;\n",
              "      cursor: pointer;\n",
              "      display: none;\n",
              "      fill: #1967D2;\n",
              "      height: 32px;\n",
              "      padding: 0 0 0 0;\n",
              "      width: 32px;\n",
              "    }\n",
              "\n",
              "    .colab-df-convert:hover {\n",
              "      background-color: #E2EBFA;\n",
              "      box-shadow: 0px 1px 2px rgba(60, 64, 67, 0.3), 0px 1px 3px 1px rgba(60, 64, 67, 0.15);\n",
              "      fill: #174EA6;\n",
              "    }\n",
              "\n",
              "    [theme=dark] .colab-df-convert {\n",
              "      background-color: #3B4455;\n",
              "      fill: #D2E3FC;\n",
              "    }\n",
              "\n",
              "    [theme=dark] .colab-df-convert:hover {\n",
              "      background-color: #434B5C;\n",
              "      box-shadow: 0px 1px 3px 1px rgba(0, 0, 0, 0.15);\n",
              "      filter: drop-shadow(0px 1px 2px rgba(0, 0, 0, 0.3));\n",
              "      fill: #FFFFFF;\n",
              "    }\n",
              "  </style>\n",
              "\n",
              "      <script>\n",
              "        const buttonEl =\n",
              "          document.querySelector('#df-89aaf187-fd0a-43ed-9844-45935a1f85cc button.colab-df-convert');\n",
              "        buttonEl.style.display =\n",
              "          google.colab.kernel.accessAllowed ? 'block' : 'none';\n",
              "\n",
              "        async function convertToInteractive(key) {\n",
              "          const element = document.querySelector('#df-89aaf187-fd0a-43ed-9844-45935a1f85cc');\n",
              "          const dataTable =\n",
              "            await google.colab.kernel.invokeFunction('convertToInteractive',\n",
              "                                                     [key], {});\n",
              "          if (!dataTable) return;\n",
              "\n",
              "          const docLinkHtml = 'Like what you see? Visit the ' +\n",
              "            '<a target=\"_blank\" href=https://colab.research.google.com/notebooks/data_table.ipynb>data table notebook</a>'\n",
              "            + ' to learn more about interactive tables.';\n",
              "          element.innerHTML = '';\n",
              "          dataTable['output_type'] = 'display_data';\n",
              "          await google.colab.output.renderOutput(dataTable, element);\n",
              "          const docLink = document.createElement('div');\n",
              "          docLink.innerHTML = docLinkHtml;\n",
              "          element.appendChild(docLink);\n",
              "        }\n",
              "      </script>\n",
              "    </div>\n",
              "  </div>\n",
              "  "
            ]
          },
          "metadata": {},
          "execution_count": 109
        }
      ],
      "source": [
        "final_dataset.rename(columns = {'Customer_Flag':'Target'}, inplace = True)\n",
        "\n",
        "cols = ['City_coded', 'Revenue', 'Sector', 'Legal_Form_Code', 'CNT_EMPLOYEE', 'CNT_CB_DENSITY', 'CNT_CB_MOB_DENSITY', 'CNT_CB_FN_DENSITY', 'Mobile_potential', 'Target']\n",
        "final_dataset=final_dataset.reindex(columns=cols)\n",
        "\n",
        "final_dataset.head()"
      ]
    },
    {
      "cell_type": "code",
      "execution_count": null,
      "metadata": {
        "colab": {
          "base_uri": "https://localhost:8080/",
          "height": 206
        },
        "id": "rDvjSyB-QJ2z",
        "outputId": "64714022-770f-4885-97f5-92a99b7da2c3"
      },
      "outputs": [
        {
          "output_type": "execute_result",
          "data": {
            "text/plain": [
              "      City_coded    Revenue  Sector  Legal_Form_Code  CNT_EMPLOYEE  \\\n",
              "5860         734  6391606.0    60.0             20.0            24   \n",
              "5861        1867   305000.0    60.0              4.0            13   \n",
              "5862         596  4200000.0    23.0             14.0            54   \n",
              "5863        1913  1336495.0    60.0             16.0            20   \n",
              "5864         982  4593054.0    64.0             14.0            44   \n",
              "\n",
              "      CNT_CB_DENSITY  CNT_CB_MOB_DENSITY  CNT_CB_FN_DENSITY  Mobile_potential  \\\n",
              "5860            57.0                57.0                0.0       2102.700888   \n",
              "5861             9.0                 9.0                0.0       1548.889725   \n",
              "5862            62.0                62.0                6.0       2388.407248   \n",
              "5863            63.0                61.0                2.0       2657.602909   \n",
              "5864            90.0                90.0                5.0       2126.540797   \n",
              "\n",
              "      Target  \n",
              "5860       0  \n",
              "5861       0  \n",
              "5862       0  \n",
              "5863       0  \n",
              "5864       0  "
            ],
            "text/html": [
              "\n",
              "  <div id=\"df-d98ae193-2eff-4380-83bb-3d5b20793673\">\n",
              "    <div class=\"colab-df-container\">\n",
              "      <div>\n",
              "<style scoped>\n",
              "    .dataframe tbody tr th:only-of-type {\n",
              "        vertical-align: middle;\n",
              "    }\n",
              "\n",
              "    .dataframe tbody tr th {\n",
              "        vertical-align: top;\n",
              "    }\n",
              "\n",
              "    .dataframe thead th {\n",
              "        text-align: right;\n",
              "    }\n",
              "</style>\n",
              "<table border=\"1\" class=\"dataframe\">\n",
              "  <thead>\n",
              "    <tr style=\"text-align: right;\">\n",
              "      <th></th>\n",
              "      <th>City_coded</th>\n",
              "      <th>Revenue</th>\n",
              "      <th>Sector</th>\n",
              "      <th>Legal_Form_Code</th>\n",
              "      <th>CNT_EMPLOYEE</th>\n",
              "      <th>CNT_CB_DENSITY</th>\n",
              "      <th>CNT_CB_MOB_DENSITY</th>\n",
              "      <th>CNT_CB_FN_DENSITY</th>\n",
              "      <th>Mobile_potential</th>\n",
              "      <th>Target</th>\n",
              "    </tr>\n",
              "  </thead>\n",
              "  <tbody>\n",
              "    <tr>\n",
              "      <th>5860</th>\n",
              "      <td>734</td>\n",
              "      <td>6391606.0</td>\n",
              "      <td>60.0</td>\n",
              "      <td>20.0</td>\n",
              "      <td>24</td>\n",
              "      <td>57.0</td>\n",
              "      <td>57.0</td>\n",
              "      <td>0.0</td>\n",
              "      <td>2102.700888</td>\n",
              "      <td>0</td>\n",
              "    </tr>\n",
              "    <tr>\n",
              "      <th>5861</th>\n",
              "      <td>1867</td>\n",
              "      <td>305000.0</td>\n",
              "      <td>60.0</td>\n",
              "      <td>4.0</td>\n",
              "      <td>13</td>\n",
              "      <td>9.0</td>\n",
              "      <td>9.0</td>\n",
              "      <td>0.0</td>\n",
              "      <td>1548.889725</td>\n",
              "      <td>0</td>\n",
              "    </tr>\n",
              "    <tr>\n",
              "      <th>5862</th>\n",
              "      <td>596</td>\n",
              "      <td>4200000.0</td>\n",
              "      <td>23.0</td>\n",
              "      <td>14.0</td>\n",
              "      <td>54</td>\n",
              "      <td>62.0</td>\n",
              "      <td>62.0</td>\n",
              "      <td>6.0</td>\n",
              "      <td>2388.407248</td>\n",
              "      <td>0</td>\n",
              "    </tr>\n",
              "    <tr>\n",
              "      <th>5863</th>\n",
              "      <td>1913</td>\n",
              "      <td>1336495.0</td>\n",
              "      <td>60.0</td>\n",
              "      <td>16.0</td>\n",
              "      <td>20</td>\n",
              "      <td>63.0</td>\n",
              "      <td>61.0</td>\n",
              "      <td>2.0</td>\n",
              "      <td>2657.602909</td>\n",
              "      <td>0</td>\n",
              "    </tr>\n",
              "    <tr>\n",
              "      <th>5864</th>\n",
              "      <td>982</td>\n",
              "      <td>4593054.0</td>\n",
              "      <td>64.0</td>\n",
              "      <td>14.0</td>\n",
              "      <td>44</td>\n",
              "      <td>90.0</td>\n",
              "      <td>90.0</td>\n",
              "      <td>5.0</td>\n",
              "      <td>2126.540797</td>\n",
              "      <td>0</td>\n",
              "    </tr>\n",
              "  </tbody>\n",
              "</table>\n",
              "</div>\n",
              "      <button class=\"colab-df-convert\" onclick=\"convertToInteractive('df-d98ae193-2eff-4380-83bb-3d5b20793673')\"\n",
              "              title=\"Convert this dataframe to an interactive table.\"\n",
              "              style=\"display:none;\">\n",
              "        \n",
              "  <svg xmlns=\"http://www.w3.org/2000/svg\" height=\"24px\"viewBox=\"0 0 24 24\"\n",
              "       width=\"24px\">\n",
              "    <path d=\"M0 0h24v24H0V0z\" fill=\"none\"/>\n",
              "    <path d=\"M18.56 5.44l.94 2.06.94-2.06 2.06-.94-2.06-.94-.94-2.06-.94 2.06-2.06.94zm-11 1L8.5 8.5l.94-2.06 2.06-.94-2.06-.94L8.5 2.5l-.94 2.06-2.06.94zm10 10l.94 2.06.94-2.06 2.06-.94-2.06-.94-.94-2.06-.94 2.06-2.06.94z\"/><path d=\"M17.41 7.96l-1.37-1.37c-.4-.4-.92-.59-1.43-.59-.52 0-1.04.2-1.43.59L10.3 9.45l-7.72 7.72c-.78.78-.78 2.05 0 2.83L4 21.41c.39.39.9.59 1.41.59.51 0 1.02-.2 1.41-.59l7.78-7.78 2.81-2.81c.8-.78.8-2.07 0-2.86zM5.41 20L4 18.59l7.72-7.72 1.47 1.35L5.41 20z\"/>\n",
              "  </svg>\n",
              "      </button>\n",
              "      \n",
              "  <style>\n",
              "    .colab-df-container {\n",
              "      display:flex;\n",
              "      flex-wrap:wrap;\n",
              "      gap: 12px;\n",
              "    }\n",
              "\n",
              "    .colab-df-convert {\n",
              "      background-color: #E8F0FE;\n",
              "      border: none;\n",
              "      border-radius: 50%;\n",
              "      cursor: pointer;\n",
              "      display: none;\n",
              "      fill: #1967D2;\n",
              "      height: 32px;\n",
              "      padding: 0 0 0 0;\n",
              "      width: 32px;\n",
              "    }\n",
              "\n",
              "    .colab-df-convert:hover {\n",
              "      background-color: #E2EBFA;\n",
              "      box-shadow: 0px 1px 2px rgba(60, 64, 67, 0.3), 0px 1px 3px 1px rgba(60, 64, 67, 0.15);\n",
              "      fill: #174EA6;\n",
              "    }\n",
              "\n",
              "    [theme=dark] .colab-df-convert {\n",
              "      background-color: #3B4455;\n",
              "      fill: #D2E3FC;\n",
              "    }\n",
              "\n",
              "    [theme=dark] .colab-df-convert:hover {\n",
              "      background-color: #434B5C;\n",
              "      box-shadow: 0px 1px 3px 1px rgba(0, 0, 0, 0.15);\n",
              "      filter: drop-shadow(0px 1px 2px rgba(0, 0, 0, 0.3));\n",
              "      fill: #FFFFFF;\n",
              "    }\n",
              "  </style>\n",
              "\n",
              "      <script>\n",
              "        const buttonEl =\n",
              "          document.querySelector('#df-d98ae193-2eff-4380-83bb-3d5b20793673 button.colab-df-convert');\n",
              "        buttonEl.style.display =\n",
              "          google.colab.kernel.accessAllowed ? 'block' : 'none';\n",
              "\n",
              "        async function convertToInteractive(key) {\n",
              "          const element = document.querySelector('#df-d98ae193-2eff-4380-83bb-3d5b20793673');\n",
              "          const dataTable =\n",
              "            await google.colab.kernel.invokeFunction('convertToInteractive',\n",
              "                                                     [key], {});\n",
              "          if (!dataTable) return;\n",
              "\n",
              "          const docLinkHtml = 'Like what you see? Visit the ' +\n",
              "            '<a target=\"_blank\" href=https://colab.research.google.com/notebooks/data_table.ipynb>data table notebook</a>'\n",
              "            + ' to learn more about interactive tables.';\n",
              "          element.innerHTML = '';\n",
              "          dataTable['output_type'] = 'display_data';\n",
              "          await google.colab.output.renderOutput(dataTable, element);\n",
              "          const docLink = document.createElement('div');\n",
              "          docLink.innerHTML = docLinkHtml;\n",
              "          element.appendChild(docLink);\n",
              "        }\n",
              "      </script>\n",
              "    </div>\n",
              "  </div>\n",
              "  "
            ]
          },
          "metadata": {},
          "execution_count": 110
        }
      ],
      "source": [
        "final_dataset.tail()"
      ]
    },
    {
      "cell_type": "markdown",
      "metadata": {
        "id": "yKmKSuHlKLh-"
      },
      "source": [
        "The output should look like this:"
      ]
    },
    {
      "cell_type": "code",
      "execution_count": null,
      "metadata": {
        "colab": {
          "base_uri": "https://localhost:8080/",
          "height": 206
        },
        "id": "m4o5gxjCKLh_",
        "outputId": "5719675e-6541-465e-938f-3352438c14c4"
      },
      "outputs": [
        {
          "output_type": "execute_result",
          "data": {
            "text/plain": [
              "   City_coded     Revenue  Sector  Legal_Form_Code  CNT_EMPLOYEE  \\\n",
              "0         785   4000000.0    42.0             14.0            17   \n",
              "1         723  11780000.0    74.0              4.0            53   \n",
              "2         443   2050000.0    43.0             14.0            16   \n",
              "3         592    853500.0    63.0             14.0            14   \n",
              "4         205  10680000.0    74.0              4.0            17   \n",
              "\n",
              "   CNT_CB_DENSITY  CNT_CB_MOB_DENSITY  CNT_CB_FN_DENSITY  Mobile_potential  \\\n",
              "0           891.0               867.0               62.0       1846.104451   \n",
              "1             7.0                 7.0                0.0       2083.941040   \n",
              "2            30.0                30.0                1.0       2209.827333   \n",
              "3           870.0               842.0               77.0       2401.464693   \n",
              "4           319.0               317.0               10.0       2579.765989   \n",
              "\n",
              "   Target  \n",
              "0       1  \n",
              "1       1  \n",
              "2       1  \n",
              "3       1  \n",
              "4       1  "
            ],
            "text/html": [
              "\n",
              "  <div id=\"df-6570d073-2517-43b1-9a13-7234cf05f474\">\n",
              "    <div class=\"colab-df-container\">\n",
              "      <div>\n",
              "<style scoped>\n",
              "    .dataframe tbody tr th:only-of-type {\n",
              "        vertical-align: middle;\n",
              "    }\n",
              "\n",
              "    .dataframe tbody tr th {\n",
              "        vertical-align: top;\n",
              "    }\n",
              "\n",
              "    .dataframe thead th {\n",
              "        text-align: right;\n",
              "    }\n",
              "</style>\n",
              "<table border=\"1\" class=\"dataframe\">\n",
              "  <thead>\n",
              "    <tr style=\"text-align: right;\">\n",
              "      <th></th>\n",
              "      <th>City_coded</th>\n",
              "      <th>Revenue</th>\n",
              "      <th>Sector</th>\n",
              "      <th>Legal_Form_Code</th>\n",
              "      <th>CNT_EMPLOYEE</th>\n",
              "      <th>CNT_CB_DENSITY</th>\n",
              "      <th>CNT_CB_MOB_DENSITY</th>\n",
              "      <th>CNT_CB_FN_DENSITY</th>\n",
              "      <th>Mobile_potential</th>\n",
              "      <th>Target</th>\n",
              "    </tr>\n",
              "  </thead>\n",
              "  <tbody>\n",
              "    <tr>\n",
              "      <th>0</th>\n",
              "      <td>785</td>\n",
              "      <td>4000000.0</td>\n",
              "      <td>42.0</td>\n",
              "      <td>14.0</td>\n",
              "      <td>17</td>\n",
              "      <td>891.0</td>\n",
              "      <td>867.0</td>\n",
              "      <td>62.0</td>\n",
              "      <td>1846.104451</td>\n",
              "      <td>1</td>\n",
              "    </tr>\n",
              "    <tr>\n",
              "      <th>1</th>\n",
              "      <td>723</td>\n",
              "      <td>11780000.0</td>\n",
              "      <td>74.0</td>\n",
              "      <td>4.0</td>\n",
              "      <td>53</td>\n",
              "      <td>7.0</td>\n",
              "      <td>7.0</td>\n",
              "      <td>0.0</td>\n",
              "      <td>2083.941040</td>\n",
              "      <td>1</td>\n",
              "    </tr>\n",
              "    <tr>\n",
              "      <th>2</th>\n",
              "      <td>443</td>\n",
              "      <td>2050000.0</td>\n",
              "      <td>43.0</td>\n",
              "      <td>14.0</td>\n",
              "      <td>16</td>\n",
              "      <td>30.0</td>\n",
              "      <td>30.0</td>\n",
              "      <td>1.0</td>\n",
              "      <td>2209.827333</td>\n",
              "      <td>1</td>\n",
              "    </tr>\n",
              "    <tr>\n",
              "      <th>3</th>\n",
              "      <td>592</td>\n",
              "      <td>853500.0</td>\n",
              "      <td>63.0</td>\n",
              "      <td>14.0</td>\n",
              "      <td>14</td>\n",
              "      <td>870.0</td>\n",
              "      <td>842.0</td>\n",
              "      <td>77.0</td>\n",
              "      <td>2401.464693</td>\n",
              "      <td>1</td>\n",
              "    </tr>\n",
              "    <tr>\n",
              "      <th>4</th>\n",
              "      <td>205</td>\n",
              "      <td>10680000.0</td>\n",
              "      <td>74.0</td>\n",
              "      <td>4.0</td>\n",
              "      <td>17</td>\n",
              "      <td>319.0</td>\n",
              "      <td>317.0</td>\n",
              "      <td>10.0</td>\n",
              "      <td>2579.765989</td>\n",
              "      <td>1</td>\n",
              "    </tr>\n",
              "  </tbody>\n",
              "</table>\n",
              "</div>\n",
              "      <button class=\"colab-df-convert\" onclick=\"convertToInteractive('df-6570d073-2517-43b1-9a13-7234cf05f474')\"\n",
              "              title=\"Convert this dataframe to an interactive table.\"\n",
              "              style=\"display:none;\">\n",
              "        \n",
              "  <svg xmlns=\"http://www.w3.org/2000/svg\" height=\"24px\"viewBox=\"0 0 24 24\"\n",
              "       width=\"24px\">\n",
              "    <path d=\"M0 0h24v24H0V0z\" fill=\"none\"/>\n",
              "    <path d=\"M18.56 5.44l.94 2.06.94-2.06 2.06-.94-2.06-.94-.94-2.06-.94 2.06-2.06.94zm-11 1L8.5 8.5l.94-2.06 2.06-.94-2.06-.94L8.5 2.5l-.94 2.06-2.06.94zm10 10l.94 2.06.94-2.06 2.06-.94-2.06-.94-.94-2.06-.94 2.06-2.06.94z\"/><path d=\"M17.41 7.96l-1.37-1.37c-.4-.4-.92-.59-1.43-.59-.52 0-1.04.2-1.43.59L10.3 9.45l-7.72 7.72c-.78.78-.78 2.05 0 2.83L4 21.41c.39.39.9.59 1.41.59.51 0 1.02-.2 1.41-.59l7.78-7.78 2.81-2.81c.8-.78.8-2.07 0-2.86zM5.41 20L4 18.59l7.72-7.72 1.47 1.35L5.41 20z\"/>\n",
              "  </svg>\n",
              "      </button>\n",
              "      \n",
              "  <style>\n",
              "    .colab-df-container {\n",
              "      display:flex;\n",
              "      flex-wrap:wrap;\n",
              "      gap: 12px;\n",
              "    }\n",
              "\n",
              "    .colab-df-convert {\n",
              "      background-color: #E8F0FE;\n",
              "      border: none;\n",
              "      border-radius: 50%;\n",
              "      cursor: pointer;\n",
              "      display: none;\n",
              "      fill: #1967D2;\n",
              "      height: 32px;\n",
              "      padding: 0 0 0 0;\n",
              "      width: 32px;\n",
              "    }\n",
              "\n",
              "    .colab-df-convert:hover {\n",
              "      background-color: #E2EBFA;\n",
              "      box-shadow: 0px 1px 2px rgba(60, 64, 67, 0.3), 0px 1px 3px 1px rgba(60, 64, 67, 0.15);\n",
              "      fill: #174EA6;\n",
              "    }\n",
              "\n",
              "    [theme=dark] .colab-df-convert {\n",
              "      background-color: #3B4455;\n",
              "      fill: #D2E3FC;\n",
              "    }\n",
              "\n",
              "    [theme=dark] .colab-df-convert:hover {\n",
              "      background-color: #434B5C;\n",
              "      box-shadow: 0px 1px 3px 1px rgba(0, 0, 0, 0.15);\n",
              "      filter: drop-shadow(0px 1px 2px rgba(0, 0, 0, 0.3));\n",
              "      fill: #FFFFFF;\n",
              "    }\n",
              "  </style>\n",
              "\n",
              "      <script>\n",
              "        const buttonEl =\n",
              "          document.querySelector('#df-6570d073-2517-43b1-9a13-7234cf05f474 button.colab-df-convert');\n",
              "        buttonEl.style.display =\n",
              "          google.colab.kernel.accessAllowed ? 'block' : 'none';\n",
              "\n",
              "        async function convertToInteractive(key) {\n",
              "          const element = document.querySelector('#df-6570d073-2517-43b1-9a13-7234cf05f474');\n",
              "          const dataTable =\n",
              "            await google.colab.kernel.invokeFunction('convertToInteractive',\n",
              "                                                     [key], {});\n",
              "          if (!dataTable) return;\n",
              "\n",
              "          const docLinkHtml = 'Like what you see? Visit the ' +\n",
              "            '<a target=\"_blank\" href=https://colab.research.google.com/notebooks/data_table.ipynb>data table notebook</a>'\n",
              "            + ' to learn more about interactive tables.';\n",
              "          element.innerHTML = '';\n",
              "          dataTable['output_type'] = 'display_data';\n",
              "          await google.colab.output.renderOutput(dataTable, element);\n",
              "          const docLink = document.createElement('div');\n",
              "          docLink.innerHTML = docLinkHtml;\n",
              "          element.appendChild(docLink);\n",
              "        }\n",
              "      </script>\n",
              "    </div>\n",
              "  </div>\n",
              "  "
            ]
          },
          "metadata": {},
          "execution_count": 111
        }
      ],
      "source": [
        "final_dataset.head()"
      ]
    },
    {
      "cell_type": "code",
      "execution_count": null,
      "metadata": {
        "colab": {
          "base_uri": "https://localhost:8080/",
          "height": 206
        },
        "id": "zcWcoMGbKLiB",
        "outputId": "1518e76c-05fb-4d5f-8787-72d5a15580e4"
      },
      "outputs": [
        {
          "output_type": "execute_result",
          "data": {
            "text/plain": [
              "      City_coded    Revenue  Sector  Legal_Form_Code  CNT_EMPLOYEE  \\\n",
              "5860         734  6391606.0    60.0             20.0            24   \n",
              "5861        1867   305000.0    60.0              4.0            13   \n",
              "5862         596  4200000.0    23.0             14.0            54   \n",
              "5863        1913  1336495.0    60.0             16.0            20   \n",
              "5864         982  4593054.0    64.0             14.0            44   \n",
              "\n",
              "      CNT_CB_DENSITY  CNT_CB_MOB_DENSITY  CNT_CB_FN_DENSITY  Mobile_potential  \\\n",
              "5860            57.0                57.0                0.0       2102.700888   \n",
              "5861             9.0                 9.0                0.0       1548.889725   \n",
              "5862            62.0                62.0                6.0       2388.407248   \n",
              "5863            63.0                61.0                2.0       2657.602909   \n",
              "5864            90.0                90.0                5.0       2126.540797   \n",
              "\n",
              "      Target  \n",
              "5860       0  \n",
              "5861       0  \n",
              "5862       0  \n",
              "5863       0  \n",
              "5864       0  "
            ],
            "text/html": [
              "\n",
              "  <div id=\"df-b38d6ba1-60f1-428b-bf81-7c23e73ff18d\">\n",
              "    <div class=\"colab-df-container\">\n",
              "      <div>\n",
              "<style scoped>\n",
              "    .dataframe tbody tr th:only-of-type {\n",
              "        vertical-align: middle;\n",
              "    }\n",
              "\n",
              "    .dataframe tbody tr th {\n",
              "        vertical-align: top;\n",
              "    }\n",
              "\n",
              "    .dataframe thead th {\n",
              "        text-align: right;\n",
              "    }\n",
              "</style>\n",
              "<table border=\"1\" class=\"dataframe\">\n",
              "  <thead>\n",
              "    <tr style=\"text-align: right;\">\n",
              "      <th></th>\n",
              "      <th>City_coded</th>\n",
              "      <th>Revenue</th>\n",
              "      <th>Sector</th>\n",
              "      <th>Legal_Form_Code</th>\n",
              "      <th>CNT_EMPLOYEE</th>\n",
              "      <th>CNT_CB_DENSITY</th>\n",
              "      <th>CNT_CB_MOB_DENSITY</th>\n",
              "      <th>CNT_CB_FN_DENSITY</th>\n",
              "      <th>Mobile_potential</th>\n",
              "      <th>Target</th>\n",
              "    </tr>\n",
              "  </thead>\n",
              "  <tbody>\n",
              "    <tr>\n",
              "      <th>5860</th>\n",
              "      <td>734</td>\n",
              "      <td>6391606.0</td>\n",
              "      <td>60.0</td>\n",
              "      <td>20.0</td>\n",
              "      <td>24</td>\n",
              "      <td>57.0</td>\n",
              "      <td>57.0</td>\n",
              "      <td>0.0</td>\n",
              "      <td>2102.700888</td>\n",
              "      <td>0</td>\n",
              "    </tr>\n",
              "    <tr>\n",
              "      <th>5861</th>\n",
              "      <td>1867</td>\n",
              "      <td>305000.0</td>\n",
              "      <td>60.0</td>\n",
              "      <td>4.0</td>\n",
              "      <td>13</td>\n",
              "      <td>9.0</td>\n",
              "      <td>9.0</td>\n",
              "      <td>0.0</td>\n",
              "      <td>1548.889725</td>\n",
              "      <td>0</td>\n",
              "    </tr>\n",
              "    <tr>\n",
              "      <th>5862</th>\n",
              "      <td>596</td>\n",
              "      <td>4200000.0</td>\n",
              "      <td>23.0</td>\n",
              "      <td>14.0</td>\n",
              "      <td>54</td>\n",
              "      <td>62.0</td>\n",
              "      <td>62.0</td>\n",
              "      <td>6.0</td>\n",
              "      <td>2388.407248</td>\n",
              "      <td>0</td>\n",
              "    </tr>\n",
              "    <tr>\n",
              "      <th>5863</th>\n",
              "      <td>1913</td>\n",
              "      <td>1336495.0</td>\n",
              "      <td>60.0</td>\n",
              "      <td>16.0</td>\n",
              "      <td>20</td>\n",
              "      <td>63.0</td>\n",
              "      <td>61.0</td>\n",
              "      <td>2.0</td>\n",
              "      <td>2657.602909</td>\n",
              "      <td>0</td>\n",
              "    </tr>\n",
              "    <tr>\n",
              "      <th>5864</th>\n",
              "      <td>982</td>\n",
              "      <td>4593054.0</td>\n",
              "      <td>64.0</td>\n",
              "      <td>14.0</td>\n",
              "      <td>44</td>\n",
              "      <td>90.0</td>\n",
              "      <td>90.0</td>\n",
              "      <td>5.0</td>\n",
              "      <td>2126.540797</td>\n",
              "      <td>0</td>\n",
              "    </tr>\n",
              "  </tbody>\n",
              "</table>\n",
              "</div>\n",
              "      <button class=\"colab-df-convert\" onclick=\"convertToInteractive('df-b38d6ba1-60f1-428b-bf81-7c23e73ff18d')\"\n",
              "              title=\"Convert this dataframe to an interactive table.\"\n",
              "              style=\"display:none;\">\n",
              "        \n",
              "  <svg xmlns=\"http://www.w3.org/2000/svg\" height=\"24px\"viewBox=\"0 0 24 24\"\n",
              "       width=\"24px\">\n",
              "    <path d=\"M0 0h24v24H0V0z\" fill=\"none\"/>\n",
              "    <path d=\"M18.56 5.44l.94 2.06.94-2.06 2.06-.94-2.06-.94-.94-2.06-.94 2.06-2.06.94zm-11 1L8.5 8.5l.94-2.06 2.06-.94-2.06-.94L8.5 2.5l-.94 2.06-2.06.94zm10 10l.94 2.06.94-2.06 2.06-.94-2.06-.94-.94-2.06-.94 2.06-2.06.94z\"/><path d=\"M17.41 7.96l-1.37-1.37c-.4-.4-.92-.59-1.43-.59-.52 0-1.04.2-1.43.59L10.3 9.45l-7.72 7.72c-.78.78-.78 2.05 0 2.83L4 21.41c.39.39.9.59 1.41.59.51 0 1.02-.2 1.41-.59l7.78-7.78 2.81-2.81c.8-.78.8-2.07 0-2.86zM5.41 20L4 18.59l7.72-7.72 1.47 1.35L5.41 20z\"/>\n",
              "  </svg>\n",
              "      </button>\n",
              "      \n",
              "  <style>\n",
              "    .colab-df-container {\n",
              "      display:flex;\n",
              "      flex-wrap:wrap;\n",
              "      gap: 12px;\n",
              "    }\n",
              "\n",
              "    .colab-df-convert {\n",
              "      background-color: #E8F0FE;\n",
              "      border: none;\n",
              "      border-radius: 50%;\n",
              "      cursor: pointer;\n",
              "      display: none;\n",
              "      fill: #1967D2;\n",
              "      height: 32px;\n",
              "      padding: 0 0 0 0;\n",
              "      width: 32px;\n",
              "    }\n",
              "\n",
              "    .colab-df-convert:hover {\n",
              "      background-color: #E2EBFA;\n",
              "      box-shadow: 0px 1px 2px rgba(60, 64, 67, 0.3), 0px 1px 3px 1px rgba(60, 64, 67, 0.15);\n",
              "      fill: #174EA6;\n",
              "    }\n",
              "\n",
              "    [theme=dark] .colab-df-convert {\n",
              "      background-color: #3B4455;\n",
              "      fill: #D2E3FC;\n",
              "    }\n",
              "\n",
              "    [theme=dark] .colab-df-convert:hover {\n",
              "      background-color: #434B5C;\n",
              "      box-shadow: 0px 1px 3px 1px rgba(0, 0, 0, 0.15);\n",
              "      filter: drop-shadow(0px 1px 2px rgba(0, 0, 0, 0.3));\n",
              "      fill: #FFFFFF;\n",
              "    }\n",
              "  </style>\n",
              "\n",
              "      <script>\n",
              "        const buttonEl =\n",
              "          document.querySelector('#df-b38d6ba1-60f1-428b-bf81-7c23e73ff18d button.colab-df-convert');\n",
              "        buttonEl.style.display =\n",
              "          google.colab.kernel.accessAllowed ? 'block' : 'none';\n",
              "\n",
              "        async function convertToInteractive(key) {\n",
              "          const element = document.querySelector('#df-b38d6ba1-60f1-428b-bf81-7c23e73ff18d');\n",
              "          const dataTable =\n",
              "            await google.colab.kernel.invokeFunction('convertToInteractive',\n",
              "                                                     [key], {});\n",
              "          if (!dataTable) return;\n",
              "\n",
              "          const docLinkHtml = 'Like what you see? Visit the ' +\n",
              "            '<a target=\"_blank\" href=https://colab.research.google.com/notebooks/data_table.ipynb>data table notebook</a>'\n",
              "            + ' to learn more about interactive tables.';\n",
              "          element.innerHTML = '';\n",
              "          dataTable['output_type'] = 'display_data';\n",
              "          await google.colab.output.renderOutput(dataTable, element);\n",
              "          const docLink = document.createElement('div');\n",
              "          docLink.innerHTML = docLinkHtml;\n",
              "          element.appendChild(docLink);\n",
              "        }\n",
              "      </script>\n",
              "    </div>\n",
              "  </div>\n",
              "  "
            ]
          },
          "metadata": {},
          "execution_count": 112
        }
      ],
      "source": [
        "final_dataset.tail()"
      ]
    },
    {
      "cell_type": "markdown",
      "metadata": {
        "id": "riT4OdRHKLiD"
      },
      "source": [
        "To measure the quality of our classifiers, it is necessary to train and test the models with different datasets. For this objective we will use [train_test_split](https://scikit-learn.org/stable/modules/generated/sklearn.model_selection.train_test_split.html) function to generate 4 new datasets: 2 for training and 2 for test: \n",
        "- `X_train`: contains all variables except `Target` for the 80% of `final_dataset`,\n",
        "- `y_train`: contains `Target`variables for the 80% of `final_dataset`, \n",
        "- `X_test`: contains all variables except `Target` for the 20% of `final_dataset`,\n",
        "- `y_test`: contains `Target`variables for the 20% of `final_dataset`."
      ]
    },
    {
      "cell_type": "code",
      "execution_count": null,
      "metadata": {
        "id": "53-vr7DKKLiD"
      },
      "outputs": [],
      "source": [
        "X_train, X_test, y_train, y_test= train_test_split (final_dataset.iloc[:,:-1], final_dataset.iloc[:,-1], test_size = 0.20, random_state = 42) "
      ]
    },
    {
      "cell_type": "markdown",
      "metadata": {
        "id": "n-pLvA3EKLiJ"
      },
      "source": [
        "[**EX6**] [**REPORT**] Calculate the lenght of `X_train` and `X_test` datasets. Is it aligned with the `test_size`value selected in the split?"
      ]
    },
    {
      "cell_type": "code",
      "source": [
        "print(\"X_train length is:\",len(X_train))\n",
        "print(\"X_train length is:\",len(X_test))"
      ],
      "metadata": {
        "colab": {
          "base_uri": "https://localhost:8080/"
        },
        "id": "dQPEF5hYAOqN",
        "outputId": "2918dc4f-19a7-46b5-8a31-3a8f29cfadfa"
      },
      "execution_count": null,
      "outputs": [
        {
          "output_type": "stream",
          "name": "stdout",
          "text": [
            "X_train length is: 4692\n",
            "X_train length is: 1173\n"
          ]
        }
      ]
    },
    {
      "cell_type": "markdown",
      "metadata": {
        "id": "0Doge9L_KLiM"
      },
      "source": [
        "[**EX7**] [**REPORT**] Draw the histograms of `y_train`and `y_test`. Is the dataset balanced (similar number of rows for each class or Target) or imbalanced ? How do you think it could affect to quality of the classifier?"
      ]
    },
    {
      "cell_type": "code",
      "execution_count": null,
      "metadata": {
        "colab": {
          "base_uri": "https://localhost:8080/"
        },
        "id": "tHbtwHpuZ6Qd",
        "outputId": "3b1e5b39-9f95-40c8-896c-6f072eb14458"
      },
      "outputs": [
        {
          "output_type": "stream",
          "name": "stdout",
          "text": [
            "968\n",
            "205\n"
          ]
        }
      ],
      "source": [
        "count = (y_test == 0).sum()\n",
        "print(count)\n",
        "count = (y_test == 1).sum()\n",
        "print(count)"
      ]
    },
    {
      "cell_type": "code",
      "source": [
        "fig = plt.figure(figsize=(5,5))\n",
        "plt.hist(y_train)\n",
        "plt.title('Histogram of y_train')\n",
        "\n",
        "fig = plt.figure(figsize=(5,5))\n",
        "plt.hist(y_test)\n",
        "plt.title('Histogram of y_test')"
      ],
      "metadata": {
        "colab": {
          "base_uri": "https://localhost:8080/",
          "height": 672
        },
        "id": "Ah8V9b_XApN6",
        "outputId": "95d689f4-03d6-49c9-d12a-4fc04392aa5f"
      },
      "execution_count": null,
      "outputs": [
        {
          "output_type": "execute_result",
          "data": {
            "text/plain": [
              "Text(0.5, 1.0, 'Histogram of y_test')"
            ]
          },
          "metadata": {},
          "execution_count": 116
        },
        {
          "output_type": "display_data",
          "data": {
            "text/plain": [
              "<Figure size 360x360 with 1 Axes>"
            ],
            "image/png": "[encoded data removed]"
          },
          "metadata": {
            "needs_background": "light"
          }
        },
        {
          "output_type": "display_data",
          "data": {
            "text/plain": [
              "<Figure size 360x360 with 1 Axes>"
            ],
            "image/png": "[encoded data removed]"
          },
          "metadata": {
            "needs_background": "light"
          }
        }
      ]
    },
    {
      "cell_type": "markdown",
      "metadata": {
        "id": "pVofh0d-KLiT"
      },
      "source": [
        "# 2. Model Training: from baseline models to ensemble¶"
      ]
    },
    {
      "cell_type": "markdown",
      "metadata": {
        "id": "P58EvGU1KLiT"
      },
      "source": [
        "Now we are ready to enter in the training stage of the machine learning models. The common way to procedure is starting with baseline models (i.e. SVM, Decision Trees, Naive Bayes, etc....) and later, try to improve it adjusting hyperparameters of the models or creating more complex models architectures as ensembles."
      ]
    },
    {
      "cell_type": "markdown",
      "metadata": {
        "id": "hKyfjGlmKLiU"
      },
      "source": [
        "## 2.1. Baseline of models: Training and evaluation"
      ]
    },
    {
      "cell_type": "markdown",
      "metadata": {
        "id": "eWN0sijJKLiU"
      },
      "source": [
        "In the following section we are training a SVM, Decision Tree and Naive Bayes algorithms. To do it, we will use the `X_train`and `y_train`datasets.\n",
        "Later on we will evaluate the performance (i.e. **accuracy**, **confusion matrix**, **recall** and **precision**) of each model with the `test`dataset, i.e. `X_test`and `y_test`.\n",
        "\n",
        "\n",
        "Tip 1: You may use [classification_report()](https://scikit-learn.org/stable/modules/generated/sklearn.metrics.classification_report.html) from Sklearn library to calculate the **precision**, **recall** of the model.\n",
        "\n",
        "Tip 2: You may use [confusion_matrix()](https://scikit-learn.org/stable/modules/generated/sklearn.metrics.confusion_matrix.html) from Sklearn library to calculate the confusion matrix of a model.\n",
        "\n",
        "Tip 3: When using Sklearn library, you may use the function **.score(X_test, y_test)** to calculate the accuracy value."
      ]
    },
    {
      "cell_type": "markdown",
      "metadata": {
        "id": "2zQCoC5JKLiV"
      },
      "source": [
        "### Classification with a SVM model"
      ]
    },
    {
      "cell_type": "markdown",
      "metadata": {
        "id": "VnWGf-D6KLiV"
      },
      "source": [
        "[**EX8**] [**CODE**] Train the SVM classifier of the Sklearn library. Evaluate the following metrics for kernel=\"rbf\":\n",
        "- Which is **precision**, **recall** and **accuracy** of the algorithm?\n",
        "- Which is the **confusion matrix**?\n",
        "- Is the algorithm classifying both classes (Target=0 and Target=1) in a similar way? Why?\n",
        "- Compare the **precision** and **recall** of the **training** dataset (i.e.`X_train`and `y_train`) vs the **test** dataset (i.e. `X_test`and `y_test`). Which is better? Why? Which is the correct measure to estimate the performance for other unseen datasets? Why?"
      ]
    },
    {
      "cell_type": "code",
      "execution_count": null,
      "metadata": {
        "colab": {
          "base_uri": "https://localhost:8080/"
        },
        "id": "CTx0TEsV5-uU",
        "outputId": "0b2f0d30-080b-4e16-a916-2a0c18f2a88a"
      },
      "outputs": [
        {
          "output_type": "execute_result",
          "data": {
            "text/plain": [
              "SVC()"
            ]
          },
          "metadata": {},
          "execution_count": 117
        }
      ],
      "source": [
        "svm = SVC(kernel='rbf')\n",
        "svm.fit(X_train, y_train)"
      ]
    },
    {
      "cell_type": "code",
      "execution_count": null,
      "metadata": {
        "colab": {
          "base_uri": "https://localhost:8080/"
        },
        "id": "3r2BAyIAi9B1",
        "outputId": "ffef2136-2815-47d7-ca01-630c34066c32"
      },
      "outputs": [
        {
          "output_type": "stream",
          "name": "stdout",
          "text": [
            "TESTING DATASET RESULTS\n",
            "              precision    recall  f1-score   support\n",
            "\n",
            "           0       0.83      1.00      0.91       968\n",
            "           1       1.00      0.01      0.03       205\n",
            "\n",
            "    accuracy                           0.83      1173\n",
            "   macro avg       0.91      0.51      0.47      1173\n",
            "weighted avg       0.86      0.83      0.75      1173\n",
            " \n",
            "\n",
            "TRAINING DATASET RESULTS:\n",
            "              precision    recall  f1-score   support\n",
            "\n",
            "           0       0.84      1.00      0.91      3941\n",
            "           1       1.00      0.01      0.02       751\n",
            "\n",
            "    accuracy                           0.84      4692\n",
            "   macro avg       0.92      0.50      0.46      4692\n",
            "weighted avg       0.87      0.84      0.77      4692\n",
            "\n"
          ]
        }
      ],
      "source": [
        "#To evaluate our model, we will predict the values for our testing and training set and analyze its performance.\n",
        "y_pred = svm.predict(X_test)\n",
        "y_pred_train = svm.predict(X_train)\n",
        "\n",
        "print(\"TESTING DATASET RESULTS\")\n",
        "print(classification_report(y_test, y_pred), \"\\n\")\n",
        "\n",
        "print(\"TRAINING DATASET RESULTS:\")\n",
        "print(classification_report(y_train, y_pred_train))"
      ]
    },
    {
      "cell_type": "code",
      "execution_count": null,
      "metadata": {
        "colab": {
          "base_uri": "https://localhost:8080/"
        },
        "id": "JosbxKN3kPHd",
        "outputId": "1672cc5b-41ce-4d44-f506-64b76ecb8e18"
      },
      "outputs": [
        {
          "output_type": "stream",
          "name": "stdout",
          "text": [
            "Confussion matrix for test data\n",
            "[[968   0]\n",
            " [202   3]]\n",
            "\n",
            "\n",
            "Confussion matrix for training data\n",
            "[[3941    0]\n",
            " [ 745    6]]\n"
          ]
        }
      ],
      "source": [
        "#Confussion matrix for test data\n",
        "print(\"Confussion matrix for test data\")\n",
        "c_matrix = confusion_matrix(y_test, y_pred)\n",
        "print(c_matrix)\n",
        "\n",
        "print(\"\\n\")\n",
        "print(\"Confussion matrix for training data\")\n",
        "#Confussion matrix for training data\n",
        "c_matrix = confusion_matrix(y_train, y_pred_train)\n",
        "print(c_matrix)"
      ]
    },
    {
      "cell_type": "markdown",
      "source": [
        "### **ANSWERS AND OBSERVATIONS:**\n",
        "  * We can observe the following results in the print:\n",
        "*   Precision : **0.83** for target '0' and **1.00** for target '1'\n",
        "*   Recall : **1.0** for target '0' and **0.01** for target '1'\n",
        "*   Accuracy = **0.83**\n",
        "\n",
        "  * We have noticed that the algorithm is not classifying both classes similarly. We can notice that the recall for target '0' is 1 (that is, all rows with target '0' have been properly classified) but precision is 0.83 which means that some of the values classified as '0' where actually of class '1'.In fact, as we can see in the confusion matrix, 202 of the values classified as class '0' were of class '1'. For the target '1' we observe the opposite behavior. That is, we observe that the precision is 1.0 (every row classified as class '1' actually belonged to it) but recall was 0.01 which is really low. This tells us that a lot of class '1' rows (actually 202 of them) have been misclassified as class '2'. However we achieved good accuracy because there were way more rows of target '0' and therefore, if we classify good enough the target '0' we could still achieve a great accuracy.\n",
        "\n",
        "  *Furthermore, we also checked the same behaviour in our training data. There were no substancial changes between the behaviour of our algorithm between training and testing data, the precision is a little higher which makes sense because it is performing on seen data (if we saw abrupt differences, we might be in a case with overfitting). However, even though it gave us a little better performance, the correct way to do it is to obtain the performance of our algorithm with unseen data, that is, with the test data. The main reason for it is that the parameters of the algorithm haven't been optimized for the unseen data. If we could get great performance with unseen data it would mean that our algorithm is able to generalize. That would not happen if we only measured its performance on training data.\n",
        "  "
      ],
      "metadata": {
        "id": "mvalOzNKpdIi"
      }
    },
    {
      "cell_type": "markdown",
      "metadata": {
        "id": "jBTK-h4cKLiY"
      },
      "source": [
        "### Classification with a Decision Tree model"
      ]
    },
    {
      "cell_type": "markdown",
      "metadata": {
        "id": "DMRkY9uvKLiY"
      },
      "source": [
        "[**EX9**] [**CODE**] Train the Decision Tree algorithm from Sklearn library. Evaluate the following metrics:\n",
        "- Which is **precision**, **recall** and **accuracy** of the algorithm?\n",
        "- Which is the **confusion matrix**?\n",
        "- Is Decision Tree algorithm working better than SVM? Why?"
      ]
    },
    {
      "cell_type": "code",
      "execution_count": null,
      "metadata": {
        "colab": {
          "base_uri": "https://localhost:8080/"
        },
        "id": "w8qk-TLTmHTH",
        "outputId": "5598e383-1a19-4cc6-d820-2a2170de034b"
      },
      "outputs": [
        {
          "output_type": "execute_result",
          "data": {
            "text/plain": [
              "DecisionTreeClassifier()"
            ]
          },
          "metadata": {},
          "execution_count": 120
        }
      ],
      "source": [
        "tree_classifier = DecisionTreeClassifier() \n",
        "tree_classifier.fit(X_train, y_train)"
      ]
    },
    {
      "cell_type": "code",
      "execution_count": null,
      "metadata": {
        "colab": {
          "base_uri": "https://localhost:8080/"
        },
        "id": "NnOqdlLwmhb_",
        "outputId": "a6b855c2-1181-4508-eef8-6856c0284b30"
      },
      "outputs": [
        {
          "output_type": "stream",
          "name": "stdout",
          "text": [
            "For testing data:\n",
            "              precision    recall  f1-score   support\n",
            "\n",
            "           0       0.86      0.84      0.85       968\n",
            "           1       0.33      0.37      0.35       205\n",
            "\n",
            "    accuracy                           0.76      1173\n",
            "   macro avg       0.60      0.61      0.60      1173\n",
            "weighted avg       0.77      0.76      0.77      1173\n",
            " \n",
            "\n",
            "Confussion matrix: \n",
            " [[817 151]\n",
            " [129  76]]\n"
          ]
        }
      ],
      "source": [
        "y_pred = tree_classifier.predict(X_test)\n",
        "y_pred_train = tree_classifier.predict(X_train)\n",
        "\n",
        "print(\"For testing data:\")\n",
        "print(classification_report(y_test, y_pred), '\\n')\n",
        "\n",
        "c_matrix = confusion_matrix(y_test, y_pred)\n",
        "print('Confussion matrix: \\n',c_matrix)\n"
      ]
    },
    {
      "cell_type": "markdown",
      "source": [
        "### **ANSWERS AND OBSERVATIONS:**\n",
        "  * We can observe the following results in the print:\n",
        "*   Precision : **0.86** for target '0' and **0.33** for target '1'\n",
        "*   Recall : **0.84** for target '0' and **0.37** for target '1'\n",
        "*   Accuracy = **0.76**\n",
        "  * In general terms, the Decision Tree model has better recall and lower precision than our SVM model. Under this conditions, we can not affirm that one model is better than the other as they have different metrics and we can't choose one over the other. Depending on the problem we would like to solve, we would chose one or another. If we seek for a high recall, we would choose the Decision Tree model but if we needed a higher precision we would choose SVM."
      ],
      "metadata": {
        "id": "k0iPtaOIqaxY"
      }
    },
    {
      "cell_type": "markdown",
      "metadata": {
        "id": "VxSee22YKLiy"
      },
      "source": [
        "### Comparing algorithm consistenly: KFold cross-validation"
      ]
    },
    {
      "cell_type": "markdown",
      "metadata": {
        "id": "K-n_MHhvKLiz"
      },
      "source": [
        "When we are looking for the best algorithm to classify a dataset, it is very useful to compare all of them. Besides, to protect the training from **overfitting** and calculate the performance with less variance than a single train-test split, it is uselful to apply **K-Fold cross-validation**. The way that KFolds works is splitting the dataset into k-parts or **fold** (e.g. k = 3, 5 or k = 10). The algorithm is trained on k − 1 folds with one held back and tested on the held back fold."
      ]
    },
    {
      "cell_type": "markdown",
      "metadata": {
        "id": "23xG-yXNKLiz"
      },
      "source": [
        "[**EX10**] [**CODE**] Train a SVM and Decision Tree algorithms using a KFold cross-validation with **k=5** and calculate the **mean** and **standard deviation** of the **accuracy**. Plot a boxplot of the accuracy for every model. Which is the model with better mean value of the accuracy? Which is the algorithm with less deviation on the accuracy?  \n",
        "\n",
        "Tip 1: You may use [KFold](https://scikit-learn.org/stable/modules/generated/sklearn.model_selection.KFold.html) to apply cross-validation."
      ]
    },
    {
      "cell_type": "code",
      "execution_count": null,
      "metadata": {
        "colab": {
          "base_uri": "https://localhost:8080/",
          "height": 294
        },
        "id": "3g2tn2OinScJ",
        "outputId": "1904356e-3740-4994-bd5c-06156168c5e8"
      },
      "outputs": [
        {
          "output_type": "display_data",
          "data": {
            "text/plain": [
              "<Figure size 432x288 with 1 Axes>"
            ],
            "image/png": "[encoded data removed]"
          },
          "metadata": {
            "needs_background": "light"
          }
        }
      ],
      "source": [
        "kf = KFold(n_splits=5)\n",
        "\n",
        "accuracy_svm = cross_val_score(SVC(), X_train, y_train, cv = kf, scoring = 'accuracy')\n",
        "accuracy_tree = cross_val_score(DecisionTreeClassifier(), X_train, y_train, cv = kf, scoring = 'accuracy')\n",
        "\n",
        "results = [accuracy_svm, accuracy_tree]\n",
        "names =['SVM', 'Decision Tree']\n",
        "\n",
        "fig=pyplot.figure()\n",
        "fig.suptitle (\"Algorithm accuracy comparison\")\n",
        "ax=fig.add_subplot(111)\n",
        "pyplot.boxplot(results)\n",
        "ax.set_xticklabels(names)\n",
        "pyplot.show()"
      ]
    },
    {
      "cell_type": "markdown",
      "metadata": {
        "id": "_aEAtktzKLi2"
      },
      "source": [
        "### Observations\n",
        "\n",
        "\n",
        "*   We can clearly see that the average accuracy was quite higher in the SVM model with a value of 0.85 more-less while the average value of the accuracy for the Decision Tree classifier was around 0.76.\n",
        "\n",
        "* Referring to the deviation of the accuracy, we note that it is way larger for the SVM than for the Decision Tree. Therefore the algorithm with less deviation on the accuracy is the latter.\n",
        "\n",
        "\n"
      ]
    },
    {
      "cell_type": "markdown",
      "metadata": {
        "id": "5h_URjohKLi6"
      },
      "source": [
        "## 2.2 Improving the model"
      ]
    },
    {
      "cell_type": "markdown",
      "metadata": {
        "id": "zDgLSJn_KLi7"
      },
      "source": [
        "As we observe from the baseline models, even though the accuracy is over 70% the classifiers don't distinguish properly both classes, i.e. **Target=1** and **Target=0**.  \n",
        "In this scenario, we should apply another strategies to improve the perfomance. There are several options: from adjusting the balance of the classes or doing the fine tuning of the hyperparameters of the models (for instance the type of kernel in SVM or the minimum number of samples per leaf in Decision Tree) to combine differents models to create ensembles.\n",
        "In this section, we will evaluate our classifiers in two ways:\n",
        "- Forcing the balancing of both classes\n",
        "- Building ensembles of models"
      ]
    },
    {
      "cell_type": "markdown",
      "metadata": {
        "id": "0xGX62GJKLi8"
      },
      "source": [
        "### Balancing the dataset"
      ]
    },
    {
      "cell_type": "markdown",
      "metadata": {
        "id": "7HL7D2DvKLi8"
      },
      "source": [
        "Let's check the type of balancing we have in our training and test datasets."
      ]
    },
    {
      "cell_type": "markdown",
      "metadata": {
        "id": "EV6OfIKgKLi9"
      },
      "source": [
        "[**EX11**][**CODE**] Split the previous `final_dataset`in two datasets: `customer_dt` for class 1 and `noncustomer_dt`for class 0. Calculate the number of samples for the **customers** class (i.e. Target=1) and for the **noncustomers** class (i.e. Target=0). Is the `final_dataset`balanced or imbalanced? Explain two options to match both datasets.\n"
      ]
    },
    {
      "cell_type": "code",
      "execution_count": null,
      "metadata": {
        "colab": {
          "base_uri": "https://localhost:8080/"
        },
        "id": "36bETVFCkfQA",
        "outputId": "2700863b-9bb5-4568-b58e-c6616698f6a7"
      },
      "outputs": [
        {
          "output_type": "stream",
          "name": "stdout",
          "text": [
            "956\n",
            "4909\n"
          ]
        }
      ],
      "source": [
        "print(len(customer_dt))\n",
        "print(len(noncustomer_dt))"
      ]
    },
    {
      "cell_type": "code",
      "source": [
        "customer_dt.rename(columns = {'Customer_Flag':'Target'}, inplace = True)"
      ],
      "metadata": {
        "id": "kdMAXD0TyNAR"
      },
      "execution_count": null,
      "outputs": []
    },
    {
      "cell_type": "markdown",
      "metadata": {
        "id": "w9rVOQ5iKLjD"
      },
      "source": [
        "Let's undersample the `noncustomer_dt` to balance both datasets:"
      ]
    },
    {
      "cell_type": "code",
      "execution_count": null,
      "metadata": {
        "colab": {
          "base_uri": "https://localhost:8080/"
        },
        "id": "8a9L5o8iKLjE",
        "outputId": "670a47a5-c9fd-4a32-aaf5-9b63f9fa7515"
      },
      "outputs": [
        {
          "output_type": "stream",
          "name": "stdout",
          "text": [
            "The new number of samples in noncustomer dataset is: 956\n"
          ]
        }
      ],
      "source": [
        "noncustomer_dt_sample=noncustomer_dt.sample(len(customer_dt))\n",
        "noncustomer_dt_sample.rename(columns = {'Customer_Flag':'Target'}, inplace = True)\n",
        "print(\"The new number of samples in noncustomer dataset is:\", len(noncustomer_dt_sample))"
      ]
    },
    {
      "cell_type": "markdown",
      "metadata": {
        "id": "P2l66X4jKLjG"
      },
      "source": [
        "If we append both datasets, the **customer_dt** and the **noncustomer_dt_sample**, the new `final_dataset`looks like:"
      ]
    },
    {
      "cell_type": "code",
      "execution_count": null,
      "metadata": {
        "colab": {
          "base_uri": "https://localhost:8080/",
          "height": 286
        },
        "id": "C0WTasz3KLjH",
        "outputId": "61b14a85-74a3-4de8-8470-072b7ee66607"
      },
      "outputs": [
        {
          "output_type": "execute_result",
          "data": {
            "text/plain": [
              "<matplotlib.axes._subplots.AxesSubplot at 0x7f1ffdc6f450>"
            ]
          },
          "metadata": {},
          "execution_count": 126
        },
        {
          "output_type": "display_data",
          "data": {
            "text/plain": [
              "<Figure size 432x288 with 1 Axes>"
            ],
            "image/png": "[encoded data removed]"
          },
          "metadata": {
            "needs_background": "light"
          }
        }
      ],
      "source": [
        "final_dataset=customer_dt.append(noncustomer_dt_sample).reset_index().drop('index', axis=1)\n",
        "\n",
        "final_dataset=final_dataset.loc[:,['City_coded', 'Revenue', 'Sector', 'Legal_Form_Code', 'CNT_EMPLOYEE', 'CNT_CB_DENSITY',\n",
        "                            'CNT_CB_MOB_DENSITY', 'CNT_CB_FN_DENSITY', 'Mobile_potential','Target']]\n",
        "final_dataset.Target.hist()"
      ]
    },
    {
      "cell_type": "markdown",
      "source": [
        "### **ANSWERS AND OBSERVATIONS:**\n",
        "At the beggining of the project we created two datasets exactly as demanded. At first, when we printed the length of them, we observed that there were 956 rows for customers and 4909 for noncustomers. Therefore, our dataset is clearly imbalanced. One of the options to balance both datasets would be undersampling the dataset having a higher length, which is noncustomer_dt. So, the first option would be to reduce the samples of non-customer dataset. Another option would be to incorporate new samples for the customer dataset (oversampling). We believe that the first options would be the easiest for this case."
      ],
      "metadata": {
        "id": "YqsyFPa5vDWr"
      }
    },
    {
      "cell_type": "markdown",
      "metadata": {
        "id": "ZQ0HyRiOKLjJ"
      },
      "source": [
        "[**EX12**][**CODE**][**REPORT**] Train a SVC and Decision Tree algorithm with the new `final_dataset`. Evaluate the **recall**, **precision** and **confusion matrix** of all 3 models.\n",
        "- Which has better accuracy?\n",
        "- Which is the model with better recall? And accuracy?\n",
        "- Which model you recommend to classify both classes? Justify your answer"
      ]
    },
    {
      "cell_type": "code",
      "execution_count": null,
      "metadata": {
        "colab": {
          "base_uri": "https://localhost:8080/"
        },
        "id": "UHWJY2-kxpxg",
        "outputId": "6e307ae0-f1d7-4faf-e5a7-745b8b9b819d"
      },
      "outputs": [
        {
          "output_type": "stream",
          "name": "stdout",
          "text": [
            "RESULTS FOR SVM\n",
            "              precision    recall  f1-score   support\n",
            "\n",
            "           0       0.55      0.60      0.57       319\n",
            "           1       0.55      0.51      0.53       312\n",
            "\n",
            "    accuracy                           0.55       631\n",
            "   macro avg       0.55      0.55      0.55       631\n",
            "weighted avg       0.55      0.55      0.55       631\n",
            " \n",
            "\n",
            "Confussion matrix\n",
            "[[190 129]\n",
            " [153 159]]\n",
            "\n",
            "\n",
            "RESULTS FOR TREE CLASSIFIER\n",
            "              precision    recall  f1-score   support\n",
            "\n",
            "           0       0.58      0.56      0.57       319\n",
            "           1       0.56      0.58      0.57       312\n",
            "\n",
            "    accuracy                           0.57       631\n",
            "   macro avg       0.57      0.57      0.57       631\n",
            "weighted avg       0.57      0.57      0.57       631\n",
            " \n",
            "\n",
            "Confussion matrix\n",
            "[[180 139]\n",
            " [132 180]]\n"
          ]
        }
      ],
      "source": [
        "X_train, X_test, y_train, y_test= train_test_split (final_dataset.iloc[:,:-1], final_dataset.iloc[:,-1], test_size=0.33, random_state=42) \n",
        "\n",
        "#SVM\n",
        "svm = SVC(kernel='rbf')\n",
        "svm.fit(X_train, y_train)\n",
        "y_pred = svm.predict(X_test)\n",
        "\n",
        "print(\"RESULTS FOR SVM\")\n",
        "print(classification_report(y_test, y_pred), \"\\n\")\n",
        "print(\"Confussion matrix\")\n",
        "c_matrix = confusion_matrix(y_test, y_pred)\n",
        "print(c_matrix)\n",
        "print(\"\\n\")\n",
        "\n",
        "\n",
        "#TREE_CLASSIFIER\n",
        "tree_classifier = DecisionTreeClassifier() \n",
        "tree_classifier.fit(X_train, y_train)\n",
        "y_pred = tree_classifier.predict(X_test)\n",
        "\n",
        "print(\"RESULTS FOR TREE CLASSIFIER\")\n",
        "print(classification_report(y_test, y_pred), \"\\n\")\n",
        "print(\"Confussion matrix\")\n",
        "c_matrix = confusion_matrix(y_test, y_pred)\n",
        "print(c_matrix)"
      ]
    },
    {
      "cell_type": "markdown",
      "metadata": {
        "id": "So2hzc-BKLjU"
      },
      "source": [
        "### Ensembling models"
      ]
    },
    {
      "cell_type": "markdown",
      "metadata": {
        "id": "7GbOE6CMKLjU"
      },
      "source": [
        "Another mechanism to improve the performance of a classifier is to combine several algorithms. The three most popular methods for combining models are:\n",
        "- Bagging combines multiple models that are trained with different subsamples of the training dataset.\n",
        "- Boosting combines multiple models in cascade and each of them learns to fix the prediction errors of the prior model.\n",
        "- Voting combines statistically the output of several models.\n",
        "\n",
        "Usually Bagging and Boosting are formed by models of the same type meanwhile voting could be formed by different models."
      ]
    },
    {
      "cell_type": "markdown",
      "metadata": {
        "id": "NgkK3L4xKLjV"
      },
      "source": [
        "### Voting ensemble"
      ]
    },
    {
      "cell_type": "markdown",
      "metadata": {
        "id": "24SsOU59KLjW"
      },
      "source": [
        "[**EX13**][**CODE**][**REPORT**] Build a **voting** ensemble formed by a SVM and Decision Tree and train it with the balanced training dataset. Calculate the **precision**, **recall** and **confusion matrix** of the new classifier. Is it better than any of the previous baseline models? Justify your answer.\n",
        "\n",
        "Tip: You may use [VotingClassifier()](https://scikit-learn.org/stable/modules/generated/sklearn.ensemble.VotingClassifier.html) to build this type of ensemble."
      ]
    },
    {
      "cell_type": "code",
      "source": [
        "svm = SVC()\n",
        "tree = DecisionTreeClassifier()\n",
        "\n",
        "ensemble = VotingClassifier(estimators=[('SVM', svm), ('Decision Tree', tree)], voting='hard')\n",
        "ensemble.fit(X_train, y_train)\n",
        "y_pred = ensemble.predict(X_test)\n",
        "\n",
        "print(classification_report(y_test,y_pred))\n",
        "print(\"Confussion matrix\")\n",
        "c_matrix = confusion_matrix(y_test, y_pred)\n",
        "print(c_matrix)"
      ],
      "metadata": {
        "colab": {
          "base_uri": "https://localhost:8080/"
        },
        "id": "lkgXGG-LmTJU",
        "outputId": "57c87a21-c6a7-4d2f-b644-037184d93397"
      },
      "execution_count": null,
      "outputs": [
        {
          "output_type": "stream",
          "name": "stdout",
          "text": [
            "              precision    recall  f1-score   support\n",
            "\n",
            "           0       0.55      0.79      0.65       319\n",
            "           1       0.61      0.33      0.43       312\n",
            "\n",
            "    accuracy                           0.57       631\n",
            "   macro avg       0.58      0.56      0.54       631\n",
            "weighted avg       0.58      0.57      0.54       631\n",
            "\n",
            "Confussion matrix\n",
            "[[253  66]\n",
            " [208 104]]\n"
          ]
        }
      ]
    },
    {
      "cell_type": "markdown",
      "metadata": {
        "id": "ocJiGPkJKLjY"
      },
      "source": [
        "### Bagging ensemble: Random Forest"
      ]
    },
    {
      "cell_type": "markdown",
      "metadata": {
        "id": "LQMj5ap5KLjZ"
      },
      "source": [
        "[**EX14**][**CODE**][**REPORT**] Build a **Bagging** ensemble based on Random Forest. Random Forest is considered a bagging ensemble formed by Decision Trees algorithms. Train the Random Forest with the balanced training dataset, i.e. `X_train` and `y_train`. Calculate the **precision**, **recall** and **confusion matrix** of the new classifier. Is it better than any of the previous baseline models? Justify your answer.\n",
        "\n",
        "Tip: You may use [RandomForestClassifier()](https://scikit-learn.org/stable/modules/generated/sklearn.ensemble.RandomForestClassifier.html) to build this type of ensemble."
      ]
    },
    {
      "cell_type": "code",
      "source": [
        "random_forest = RandomForestClassifier()\n",
        "random_forest.fit(X_train,y_train)\n",
        "y_pred = random_forest.predict(X_test)\n",
        "\n",
        "print(classification_report(y_test,y_pred))\n",
        "print(\"Confussion matrix\")\n",
        "c_matrix = confusion_matrix(y_test, y_pred)\n",
        "print(c_matrix)"
      ],
      "metadata": {
        "colab": {
          "base_uri": "https://localhost:8080/"
        },
        "id": "3sxUv0hNY6mT",
        "outputId": "437e3cde-f741-4049-e9ed-550ca28b70e5"
      },
      "execution_count": null,
      "outputs": [
        {
          "output_type": "stream",
          "name": "stdout",
          "text": [
            "              precision    recall  f1-score   support\n",
            "\n",
            "           0       0.66      0.65      0.66       319\n",
            "           1       0.65      0.66      0.65       312\n",
            "\n",
            "    accuracy                           0.65       631\n",
            "   macro avg       0.65      0.65      0.65       631\n",
            "weighted avg       0.65      0.65      0.65       631\n",
            "\n",
            "Confussion matrix\n",
            "[[208 111]\n",
            " [107 205]]\n"
          ]
        }
      ]
    },
    {
      "cell_type": "markdown",
      "metadata": {
        "id": "4G08f_aEKLjd"
      },
      "source": [
        "[**EX15**][**REPORT**] Plot the histograms of the probabilities resulting of the prediction of the Random Forest model for class 0 and class 1."
      ]
    },
    {
      "cell_type": "code",
      "source": [
        "#GETTING PROBABILITIES\n",
        "y_pred_randomforest_prob = random_forest.predict_proba(X_test)\n",
        "y_pred_randomforest_total = np.concatenate((y_pred_randomforest_prob[:,1].reshape(-1,1),np.asarray(y_test).reshape(-1,1)),axis=1)\n",
        "\n",
        "#PLOTTING\n",
        "sns.set(rc={'figure.figsize':(20,7)})\n",
        "\n",
        "plt.subplot(121)\n",
        "y_test_rf_0=y_pred_randomforest_total[y_pred_randomforest_total[:,1]==0]\n",
        "sns.histplot(y_test_rf_0[:,0], color=\"b\", bins = 25)\n",
        "plt.title('Histogram of the probabilities resulting of the prediction of the Random Forest model for class 0                       ')\n",
        "plt.xlabel('Random Forest model score')\n",
        "plt.ylabel('Number of samples')\n",
        "\n",
        "plt.subplot(122)\n",
        "y_test_rf_1=y_pred_randomforest_total[y_pred_randomforest_total[:,1]==1]\n",
        "sns.histplot(y_test_rf_1[:,0], color=\"g\",bins=25)\n",
        "plt.title('Histogram of the probabilities resulting of the prediction of the Random Forest model for class 1')\n",
        "plt.xlabel('Random Forest model score')\n",
        "plt.ylabel('Number of samples')"
      ],
      "metadata": {
        "colab": {
          "base_uri": "https://localhost:8080/",
          "height": 481
        },
        "id": "Lmz0jIsp9qtX",
        "outputId": "7e60b807-b4f0-43a2-8336-250135ea85e9"
      },
      "execution_count": null,
      "outputs": [
        {
          "output_type": "execute_result",
          "data": {
            "text/plain": [
              "Text(0, 0.5, 'Number of samples')"
            ]
          },
          "metadata": {},
          "execution_count": 167
        },
        {
          "output_type": "display_data",
          "data": {
            "text/plain": [
              "<Figure size 1440x504 with 2 Axes>"
            ],
            "image/png": "[encoded data removed]"
          },
          "metadata": {}
        }
      ]
    },
    {
      "cell_type": "markdown",
      "metadata": {
        "id": "K9Vbyi1lKLjg"
      },
      "source": [
        "### Boosting ensemble: Gradient Tree Boosting"
      ]
    },
    {
      "cell_type": "markdown",
      "metadata": {
        "id": "VTZvSgz8KLji"
      },
      "source": [
        "[**EX16**][**CODE**][**REPORT**] Build a **Boosting** ensemble based on Gradient Tree Boosting (GBT). There are several boosting algorithms as Adaboost, etc.  Train the GBT with the balanced training dataset, i.e. `X_train` and `y_train`. Calculate the **precision**, **recall** and **confusion matrix** of the new classifier. Is it better than any of the previous baseline models? Justify your answer.\n",
        "\n",
        "Tip: You may use [GradientBoostingClassifier](https://scikit-learn.org/stable/modules/generated/sklearn.ensemble.GradientBoostingClassifier.html) to build this type of ensemble."
      ]
    },
    {
      "cell_type": "code",
      "source": [
        "gradient_boosting = GradientBoostingClassifier()\n",
        "gradient_boosting.fit(X_train, y_train)\n",
        "\n",
        "y_pred = gradient_boosting.predict(X_test)\n",
        "\n",
        "print(classification_report(y_test,y_pred))\n",
        "print(\"Confussion matrix\")\n",
        "c_matrix = confusion_matrix(y_test, y_pred)\n",
        "print(c_matrix)"
      ],
      "metadata": {
        "colab": {
          "base_uri": "https://localhost:8080/"
        },
        "id": "PzXmZZHnajI4",
        "outputId": "e8141887-fd4e-4ef7-ceff-95d81e2eaff5"
      },
      "execution_count": null,
      "outputs": [
        {
          "output_type": "stream",
          "name": "stdout",
          "text": [
            "              precision    recall  f1-score   support\n",
            "\n",
            "           0       0.68      0.61      0.64       319\n",
            "           1       0.64      0.71      0.67       312\n",
            "\n",
            "    accuracy                           0.66       631\n",
            "   macro avg       0.66      0.66      0.66       631\n",
            "weighted avg       0.66      0.66      0.66       631\n",
            "\n",
            "Confussion matrix\n",
            "[[195 124]\n",
            " [ 92 220]]\n"
          ]
        }
      ]
    },
    {
      "cell_type": "markdown",
      "metadata": {
        "id": "KLwM8rn_KLjl"
      },
      "source": [
        "[**EX17**][**REPORT**] Plot the histograms of the probabilities resulting of the prediction of the GBT model for class 0 and class 1. Compare it with histogram of Random Forest. Which one classifies better from your point of view? Why? "
      ]
    },
    {
      "cell_type": "code",
      "source": [
        "#GETTING PROBABILITIES\n",
        "y_pred_gradientboost_prob = gradient_boosting.predict_proba(X_test)\n",
        "y_pred_gradientboost_total = np.concatenate((y_pred_gradientboost_prob[:,1].reshape(-1,1),np.asarray(y_test).reshape(-1,1)),axis=1)\n",
        "\n",
        "\n",
        "#PLOTTING\n",
        "sns.set(rc={'figure.figsize':(20,7)})\n",
        "\n",
        "plt.subplot(121)\n",
        "y_test_gtb_0=y_pred_gradientboost_total[y_pred_gradientboost_total[:,1]==0]\n",
        "sns.histplot(y_test_gtb_0[:,0], color=\"b\", bins =40)\n",
        "plt.title('                      Histogram of the probabilities resulting of the prediction of the GBT for class 0                       ')\n",
        "plt.xlabel('GBT model score')\n",
        "plt.ylabel('Number of samples')\n",
        "\n",
        "plt.subplot(122)\n",
        "y_test_gtb_1=y_pred_gradientboost_total[y_pred_gradientboost_total[:,1]==1]\n",
        "sns.histplot(y_test_gtb_1[:,0], color=\"g\", bins=40)\n",
        "plt.title('Histogram of the probabilities resulting of the prediction of the GBT model for class 1')\n",
        "plt.xlabel('GBT model score')\n",
        "plt.ylabel('Number of samples')\n"
      ],
      "metadata": {
        "colab": {
          "base_uri": "https://localhost:8080/",
          "height": 481
        },
        "id": "lxdrKm1Q-aV5",
        "outputId": "a8929cfb-913c-4bd1-f2ca-21ed9c2075b4"
      },
      "execution_count": null,
      "outputs": [
        {
          "output_type": "execute_result",
          "data": {
            "text/plain": [
              "Text(0, 0.5, 'Number of samples')"
            ]
          },
          "metadata": {},
          "execution_count": 168
        },
        {
          "output_type": "display_data",
          "data": {
            "text/plain": [
              "<Figure size 1440x504 with 2 Axes>"
            ],
            "image/png": "[encoded data removed]"
          },
          "metadata": {}
        }
      ]
    },
    {
      "cell_type": "markdown",
      "metadata": {
        "id": "UvbS-zysKLjq"
      },
      "source": [
        "# 3. Creating a Business opportunity with Machine Learning"
      ]
    },
    {
      "cell_type": "markdown",
      "metadata": {
        "id": "oYWmrLYQKLjP"
      },
      "source": [
        "The cut-off is the **threshold of the probability of the prediction** to assign to class 0 or class 1 the prediction. If probability > cut-off, the model classifies as 1; otherwise, model classifies as 0. \n",
        "The cut-off is a value that can be adjusted to increase the recall or the precision. Usually, there is a **trade-off** between improving the recall-precision."
      ]
    },
    {
      "cell_type": "markdown",
      "metadata": {
        "id": "XBhZ9VKgKLjq"
      },
      "source": [
        "[**EX18**][**CODE**][**REPORT**] Execute the prediction for the selected model. Adjust the cutoff value to optimize the classifier if you consider necessary. How many **non customers** are you going to send to the sales managers to sell our products to them?\n",
        "\n",
        "\n"
      ]
    },
    {
      "cell_type": "code",
      "source": [
        "#Here we calculate the recall precision and accuracy of the model depending on which cut-off we choose:\n",
        "\n",
        "y_pred_gradient = gradient_boosting.predict_proba(X_test)\n",
        "cutoffs = [0.5, 0.55, 0.6, 0.65, 0.7,0.8]\n",
        "\n",
        "y_pred_gtb_total = np.concatenate((y_pred_gradient[:,1].reshape(-1,1),np.asarray(y_test).reshape(-1,1)),axis=1)\n",
        "\n",
        "for cutoff in cutoffs:\n",
        "  y_pred_gradient = gradient_boosting.predict_proba(X_test)\n",
        "  y_pred_change = []\n",
        "\n",
        "  for i in range (len(y_pred_gtb_total)):\n",
        "    \n",
        "    if y_pred_gradient[i,1]>= cutoff:\n",
        "      y_pred_change.append(1) #We classify as customrr\n",
        "    else:\n",
        "      y_pred_change.append(0) #We classify as noncustomer\n",
        "  print('---------------------------------')\n",
        "  print('\\nGTB with cutoff: ', cutoff)\n",
        "  print(classification_report(y_test,y_pred_change))\n",
        "  print('\\nConfusion matrix is: \\n\\n', confusion_matrix(y_test,y_pred_change))"
      ],
      "metadata": {
        "colab": {
          "base_uri": "https://localhost:8080/"
        },
        "id": "lkhjyjS3ayGE",
        "outputId": "e24c115d-c142-4525-d5db-5ec719b1868a"
      },
      "execution_count": null,
      "outputs": [
        {
          "output_type": "stream",
          "name": "stdout",
          "text": [
            "---------------------------------\n",
            "\n",
            "GTB with cutoff:  0.5\n",
            "              precision    recall  f1-score   support\n",
            "\n",
            "           0       0.68      0.61      0.64       319\n",
            "           1       0.64      0.71      0.67       312\n",
            "\n",
            "    accuracy                           0.66       631\n",
            "   macro avg       0.66      0.66      0.66       631\n",
            "weighted avg       0.66      0.66      0.66       631\n",
            "\n",
            "\n",
            "Confusion matrix is: \n",
            "\n",
            " [[195 124]\n",
            " [ 92 220]]\n",
            "---------------------------------\n",
            "\n",
            "GTB with cutoff:  0.55\n",
            "              precision    recall  f1-score   support\n",
            "\n",
            "           0       0.65      0.70      0.68       319\n",
            "           1       0.67      0.62      0.65       312\n",
            "\n",
            "    accuracy                           0.66       631\n",
            "   macro avg       0.66      0.66      0.66       631\n",
            "weighted avg       0.66      0.66      0.66       631\n",
            "\n",
            "\n",
            "Confusion matrix is: \n",
            "\n",
            " [[224  95]\n",
            " [118 194]]\n",
            "---------------------------------\n",
            "\n",
            "GTB with cutoff:  0.6\n",
            "              precision    recall  f1-score   support\n",
            "\n",
            "           0       0.62      0.80      0.70       319\n",
            "           1       0.71      0.51      0.59       312\n",
            "\n",
            "    accuracy                           0.66       631\n",
            "   macro avg       0.67      0.65      0.65       631\n",
            "weighted avg       0.67      0.66      0.65       631\n",
            "\n",
            "\n",
            "Confusion matrix is: \n",
            "\n",
            " [[256  63]\n",
            " [154 158]]\n",
            "---------------------------------\n",
            "\n",
            "GTB with cutoff:  0.65\n",
            "              precision    recall  f1-score   support\n",
            "\n",
            "           0       0.59      0.91      0.71       319\n",
            "           1       0.79      0.34      0.48       312\n",
            "\n",
            "    accuracy                           0.63       631\n",
            "   macro avg       0.69      0.63      0.59       631\n",
            "weighted avg       0.69      0.63      0.60       631\n",
            "\n",
            "\n",
            "Confusion matrix is: \n",
            "\n",
            " [[291  28]\n",
            " [206 106]]\n",
            "---------------------------------\n",
            "\n",
            "GTB with cutoff:  0.7\n",
            "              precision    recall  f1-score   support\n",
            "\n",
            "           0       0.57      0.97      0.72       319\n",
            "           1       0.88      0.25      0.39       312\n",
            "\n",
            "    accuracy                           0.61       631\n",
            "   macro avg       0.72      0.61      0.55       631\n",
            "weighted avg       0.72      0.61      0.55       631\n",
            "\n",
            "\n",
            "Confusion matrix is: \n",
            "\n",
            " [[308  11]\n",
            " [234  78]]\n",
            "---------------------------------\n",
            "\n",
            "GTB with cutoff:  0.8\n",
            "              precision    recall  f1-score   support\n",
            "\n",
            "           0       0.54      0.99      0.70       319\n",
            "           1       0.94      0.15      0.25       312\n",
            "\n",
            "    accuracy                           0.57       631\n",
            "   macro avg       0.74      0.57      0.48       631\n",
            "weighted avg       0.74      0.57      0.48       631\n",
            "\n",
            "\n",
            "Confusion matrix is: \n",
            "\n",
            " [[316   3]\n",
            " [266  46]]\n"
          ]
        }
      ]
    },
    {
      "cell_type": "markdown",
      "metadata": {
        "id": "2OKOVuCNKLjt"
      },
      "source": [
        "Usually, Marketing department needs to know and understand the main features of the algorithms. The code below returns the importance of each feature of the `training_dataset`."
      ]
    },
    {
      "cell_type": "code",
      "execution_count": null,
      "metadata": {
        "id": "nX4VfjM4KLjt"
      },
      "outputs": [],
      "source": [
        "features=['City_coded','Revenue', 'Sector', 'Legal_Form_Code', 'CNT_EMPLOYEE', 'CNT_CB_DENSITY',\n",
        "                            'CNT_CB_MOB_DENSITY', 'CNT_CB_FN_DENS', 'Mobile_potential']\n",
        "features_values=gradient_boosting.feature_importances_\n",
        "features_importance=[]\n",
        "for i in range (len(features)):\n",
        "    features_importance.append([features[i],features_values[i]])"
      ]
    },
    {
      "cell_type": "markdown",
      "metadata": {
        "id": "3gE_DYCvKLjw"
      },
      "source": [
        "[**EX19**][**CODE**][**REPORT**] Order the features by importance. Which are the top 3 features to discriminate between **non customers** and **customers**?"
      ]
    },
    {
      "cell_type": "code",
      "source": [
        "features_importance.sort(key=lambda y: y[1], reverse=True) #Sorts from max to min with respect to the second value of the elements in the array (its importance)\n",
        "\n",
        "#print(features_importance)\n",
        "\n",
        "for i in range (len(features)):\n",
        "    print('Top:',i,', feature importance: ', features_importance[i])"
      ],
      "metadata": {
        "colab": {
          "base_uri": "https://localhost:8080/"
        },
        "id": "LFPgjEZ-cVoT",
        "outputId": "0daddc73-f580-46c2-b15e-7f02edd5442e"
      },
      "execution_count": null,
      "outputs": [
        {
          "output_type": "stream",
          "name": "stdout",
          "text": [
            "Top: 0 , feature importance:  ['Mobile_potential', 0.2300893370343828]\n",
            "Top: 1 , feature importance:  ['Revenue', 0.1377348004767908]\n",
            "Top: 2 , feature importance:  ['Legal_Form_Code', 0.12131466068247054]\n",
            "Top: 3 , feature importance:  ['City_coded', 0.10116684592632531]\n",
            "Top: 4 , feature importance:  ['CNT_CB_MOB_DENSITY', 0.09900009961604543]\n",
            "Top: 5 , feature importance:  ['CNT_EMPLOYEE', 0.08954660700197538]\n",
            "Top: 6 , feature importance:  ['CNT_CB_DENSITY', 0.08917759815542649]\n",
            "Top: 7 , feature importance:  ['CNT_CB_FN_DENS', 0.07996483240509482]\n",
            "Top: 8 , feature importance:  ['Sector', 0.05200521870148843]\n"
          ]
        }
      ]
    },
    {
      "cell_type": "markdown",
      "source": [
        "  [**EX20**][**REPORT**] In this project, we have used classification techniques to identify potential customers. We have adjusted the main classification parameters as cutoff, recall and precision according to the final purpose: in out case, identify **non customers** that could be interested to buy our products. Consider a new campaign focused on accelerating the sales of a **New IoT tariff** to our customers. Answer the following questions:\n",
        "- In this case, which is the **target** variable? Which are **target=0** samples? And **target=1**?\n",
        "- As the marketing campaing is oriented to our customers we will have further information about them in our internal systems. In particular, we could add to the information of the previous section 3 new variables: data and voice consumption and mobile expense. Adding more data to the dataset may imply more computational data and cost. Would you add these 3 new variables to dataset? Justify your answer.\n",
        "- Today this New IoT tariff is very popular among our customers. Will the training dataset be balanced or unbalanced? Justify your answer.\n",
        "\n",
        "Imagine the following scatter plot (`Number of IoT devices (units)` vs `Number of IoT applications (units)`):\n",
        "\n",
        "![<scatter_plot>](scatter_plot.png)\n",
        "- Describe in terms of `Number of IoT devices (units)` and `Number of IoT applications (units)` the **pattern** of target 1 customers\n",
        "- Draw a plane to separate both classes\n",
        "- Is the training dataset balanced? Justiy your answer\n",
        "- According to the previous plane, which are the customers to be phoned to sell the New IoT tariff?\n",
        "- Could you estimate the **precision** and **recall** of the classification?\n"
      ],
      "metadata": {
        "id": "OF8WPJE-1LbM"
      }
    },
    {
      "cell_type": "markdown",
      "metadata": {
        "id": "WqGzZF61KLjy"
      },
      "source": [
        "*******"
      ]
    },
    {
      "cell_type": "markdown",
      "metadata": {
        "id": "LwurUQuVSkqD"
      },
      "source": [
        "**We hereby declare that, except for the code provided by the course instructors, all of our code, report, and figures were produced by ourselves.**"
      ]
    },
    {
      "cell_type": "markdown",
      "metadata": {
        "id": "d90P5bXGKLjz"
      },
      "source": [
        "# Deliver"
      ]
    },
    {
      "cell_type": "markdown",
      "metadata": {
        "id": "vsdxRz2aKLj0"
      },
      "source": [
        "Deliver:\n",
        "\n",
        "* A zip file containing your notebook (.ipynb file) with all the [**CODE**] parts implemented.\n",
        "* A 5-pages PDF report including all parts of this notebook marked with \"[**REPORT**]\"\n",
        "\n",
        "The report should end with the following statement: **We hereby declare that, except for the code provided by the course instructors, all of our code, report, and figures were produced by ourselves.**"
      ]
    }
  ],
  "metadata": {
    "colab": {
      "collapsed_sections": [
        "NgkK3L4xKLjV",
        "ocJiGPkJKLjY",
        "K9Vbyi1lKLjg"
      ],
      "name": "P02.ipynb",
      "provenance": []
    },
    "kernelspec": {
      "display_name": "Python 3",
      "language": "python",
      "name": "python3"
    },
    "language_info": {
      "codemirror_mode": {
        "name": "ipython",
        "version": 3
      },
      "file_extension": ".py",
      "mimetype": "text/x-python",
      "name": "python",
      "nbconvert_exporter": "python",
      "pygments_lexer": "ipython3",
      "version": "3.8.5"
    }
  },
  "nbformat": 4,
  "nbformat_minor": 0
}